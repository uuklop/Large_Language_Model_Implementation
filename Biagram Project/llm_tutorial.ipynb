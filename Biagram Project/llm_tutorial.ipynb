{
 "cells": [
  {
   "cell_type": "code",
   "id": "initial_id",
   "metadata": {
    "collapsed": true,
    "ExecuteTime": {
     "end_time": "2025-02-02T08:51:41.093274Z",
     "start_time": "2025-02-02T08:51:41.090543Z"
    }
   },
   "source": [
    "with open('dataset/wizard_of_oz.txt', 'r', encoding='utf-8') as f:\n",
    "    text = f.read()"
   ],
   "outputs": [],
   "execution_count": 2
  },
  {
   "metadata": {
    "ExecuteTime": {
     "end_time": "2025-02-02T08:51:41.109499Z",
     "start_time": "2025-02-02T08:51:41.107253Z"
    }
   },
   "cell_type": "code",
   "source": [
    "# Length of text\n",
    "print(len(text))"
   ],
   "id": "d7d542ad718978d4",
   "outputs": [
    {
     "name": "stdout",
     "output_type": "stream",
     "text": [
      "232309\n"
     ]
    }
   ],
   "execution_count": 3
  },
  {
   "metadata": {
    "ExecuteTime": {
     "end_time": "2025-02-02T08:51:41.174090Z",
     "start_time": "2025-02-02T08:51:41.165275Z"
    }
   },
   "cell_type": "code",
   "source": [
    "# First 200 characters of the text\n",
    "print(text[:200])"
   ],
   "id": "fe27c896dbe0a5cf",
   "outputs": [
    {
     "name": "stdout",
     "output_type": "stream",
     "text": [
      "﻿  DOROTHY AND THE WIZARD IN OZ\n",
      "\n",
      "  BY\n",
      "\n",
      "  L. FRANK BAUM\n",
      "\n",
      "  AUTHOR OF THE WIZARD OF OZ, THE LAND OF OZ, OZMA OF OZ, ETC.\n",
      "\n",
      "  ILLUSTRATED BY JOHN R. NEILL\n",
      "\n",
      "  BOOKS OF WONDER WILLIAM MORROW & CO., INC. NEW\n"
     ]
    }
   ],
   "execution_count": 4
  },
  {
   "metadata": {
    "ExecuteTime": {
     "end_time": "2025-02-02T08:51:41.225773Z",
     "start_time": "2025-02-02T08:51:41.221520Z"
    }
   },
   "cell_type": "code",
   "source": [
    "chars = sorted(list(set(text)))\n",
    "print(chars)\n",
    "print(len(chars))"
   ],
   "id": "b023e20f203f4c9c",
   "outputs": [
    {
     "name": "stdout",
     "output_type": "stream",
     "text": [
      "['\\n', ' ', '!', '\"', '&', \"'\", '(', ')', '*', ',', '-', '.', '0', '1', '2', '3', '4', '5', '6', '7', '8', '9', ':', ';', '?', 'A', 'B', 'C', 'D', 'E', 'F', 'G', 'H', 'I', 'J', 'K', 'L', 'M', 'N', 'O', 'P', 'Q', 'R', 'S', 'T', 'U', 'V', 'W', 'X', 'Y', 'Z', '[', ']', '_', 'a', 'b', 'c', 'd', 'e', 'f', 'g', 'h', 'i', 'j', 'k', 'l', 'm', 'n', 'o', 'p', 'q', 'r', 's', 't', 'u', 'v', 'w', 'x', 'y', 'z', '\\ufeff']\n",
      "81\n"
     ]
    }
   ],
   "execution_count": 5
  },
  {
   "metadata": {
    "ExecuteTime": {
     "end_time": "2025-02-02T08:51:41.273558Z",
     "start_time": "2025-02-02T08:51:41.271101Z"
    }
   },
   "cell_type": "code",
   "source": [
    "# Tokenizer (consist of an encoder and decoder)\n",
    "# encoder: converts each character in the chars into an integer\n",
    "string_to_int = {ch:i for i, ch in enumerate(chars)}\n",
    "print(string_to_int)"
   ],
   "id": "17866ee55d143f93",
   "outputs": [
    {
     "name": "stdout",
     "output_type": "stream",
     "text": [
      "{'\\n': 0, ' ': 1, '!': 2, '\"': 3, '&': 4, \"'\": 5, '(': 6, ')': 7, '*': 8, ',': 9, '-': 10, '.': 11, '0': 12, '1': 13, '2': 14, '3': 15, '4': 16, '5': 17, '6': 18, '7': 19, '8': 20, '9': 21, ':': 22, ';': 23, '?': 24, 'A': 25, 'B': 26, 'C': 27, 'D': 28, 'E': 29, 'F': 30, 'G': 31, 'H': 32, 'I': 33, 'J': 34, 'K': 35, 'L': 36, 'M': 37, 'N': 38, 'O': 39, 'P': 40, 'Q': 41, 'R': 42, 'S': 43, 'T': 44, 'U': 45, 'V': 46, 'W': 47, 'X': 48, 'Y': 49, 'Z': 50, '[': 51, ']': 52, '_': 53, 'a': 54, 'b': 55, 'c': 56, 'd': 57, 'e': 58, 'f': 59, 'g': 60, 'h': 61, 'i': 62, 'j': 63, 'k': 64, 'l': 65, 'm': 66, 'n': 67, 'o': 68, 'p': 69, 'q': 70, 'r': 71, 's': 72, 't': 73, 'u': 74, 'v': 75, 'w': 76, 'x': 77, 'y': 78, 'z': 79, '\\ufeff': 80}\n"
     ]
    }
   ],
   "execution_count": 6
  },
  {
   "metadata": {
    "ExecuteTime": {
     "end_time": "2025-02-02T08:51:41.321815Z",
     "start_time": "2025-02-02T08:51:41.319580Z"
    }
   },
   "cell_type": "code",
   "source": [
    "# maps integer to strings\n",
    "int_to_string = {i:ch for i, ch in enumerate(chars)}\n",
    "print(int_to_string)"
   ],
   "id": "9fa29d73d6167898",
   "outputs": [
    {
     "name": "stdout",
     "output_type": "stream",
     "text": [
      "{0: '\\n', 1: ' ', 2: '!', 3: '\"', 4: '&', 5: \"'\", 6: '(', 7: ')', 8: '*', 9: ',', 10: '-', 11: '.', 12: '0', 13: '1', 14: '2', 15: '3', 16: '4', 17: '5', 18: '6', 19: '7', 20: '8', 21: '9', 22: ':', 23: ';', 24: '?', 25: 'A', 26: 'B', 27: 'C', 28: 'D', 29: 'E', 30: 'F', 31: 'G', 32: 'H', 33: 'I', 34: 'J', 35: 'K', 36: 'L', 37: 'M', 38: 'N', 39: 'O', 40: 'P', 41: 'Q', 42: 'R', 43: 'S', 44: 'T', 45: 'U', 46: 'V', 47: 'W', 48: 'X', 49: 'Y', 50: 'Z', 51: '[', 52: ']', 53: '_', 54: 'a', 55: 'b', 56: 'c', 57: 'd', 58: 'e', 59: 'f', 60: 'g', 61: 'h', 62: 'i', 63: 'j', 64: 'k', 65: 'l', 66: 'm', 67: 'n', 68: 'o', 69: 'p', 70: 'q', 71: 'r', 72: 's', 73: 't', 74: 'u', 75: 'v', 76: 'w', 77: 'x', 78: 'y', 79: 'z', 80: '\\ufeff'}\n"
     ]
    }
   ],
   "execution_count": 7
  },
  {
   "metadata": {
    "ExecuteTime": {
     "end_time": "2025-02-02T08:51:41.378511Z",
     "start_time": "2025-02-02T08:51:41.375450Z"
    }
   },
   "cell_type": "code",
   "source": [
    "# encode\n",
    "encode = lambda s: [string_to_int[c] for c in s]\n",
    "encoded = encode('Hello World')\n",
    "print(encoded)"
   ],
   "id": "5f7ef0e0153e346e",
   "outputs": [
    {
     "name": "stdout",
     "output_type": "stream",
     "text": [
      "[32, 58, 65, 65, 68, 1, 47, 68, 71, 65, 57]\n"
     ]
    }
   ],
   "execution_count": 8
  },
  {
   "metadata": {
    "ExecuteTime": {
     "end_time": "2025-02-02T08:51:41.425688Z",
     "start_time": "2025-02-02T08:51:41.423709Z"
    }
   },
   "cell_type": "code",
   "source": [
    "# decode\n",
    "decode = lambda l: ''.join([int_to_string[i] for i in l])\n",
    "decoded = decode(encoded)\n",
    "print(decoded)"
   ],
   "id": "577963e2fde1c2f6",
   "outputs": [
    {
     "name": "stdout",
     "output_type": "stream",
     "text": [
      "Hello World\n"
     ]
    }
   ],
   "execution_count": 9
  },
  {
   "metadata": {},
   "cell_type": "markdown",
   "source": "PYTORCH TUTORIALS",
   "id": "2726fbd318c0be63"
  },
  {
   "metadata": {},
   "cell_type": "raw",
   "source": "### Tensors",
   "id": "e7b380519c610b0d"
  },
  {
   "metadata": {
    "ExecuteTime": {
     "end_time": "2025-02-02T08:51:42.634954Z",
     "start_time": "2025-02-02T08:51:41.472567Z"
    }
   },
   "cell_type": "code",
   "source": [
    "import torch\n",
    "import torch.nn as nn\n",
    "from torch.nn import functional as f\n"
   ],
   "id": "39e7a1c6c0c177fa",
   "outputs": [],
   "execution_count": 10
  },
  {
   "metadata": {
    "ExecuteTime": {
     "end_time": "2025-02-02T08:51:42.664861Z",
     "start_time": "2025-02-02T08:51:42.640177Z"
    }
   },
   "cell_type": "code",
   "source": [
    "device = 'cuda' if torch.cuda.is_available() else 'cpu'\n",
    "print(device)"
   ],
   "id": "372769b04a423d63",
   "outputs": [
    {
     "name": "stdout",
     "output_type": "stream",
     "text": [
      "cuda\n"
     ]
    }
   ],
   "execution_count": 11
  },
  {
   "metadata": {
    "ExecuteTime": {
     "end_time": "2025-02-02T08:51:42.703998Z",
     "start_time": "2025-02-02T08:51:42.687107Z"
    }
   },
   "cell_type": "code",
   "source": [
    "data = torch.tensor(encode(text), dtype=torch.long)\n",
    "print(data[:100])"
   ],
   "id": "febe74216a9d28f2",
   "outputs": [
    {
     "name": "stdout",
     "output_type": "stream",
     "text": [
      "tensor([80,  1,  1, 28, 39, 42, 39, 44, 32, 49,  1, 25, 38, 28,  1, 44, 32, 29,\n",
      "         1, 47, 33, 50, 25, 42, 28,  1, 33, 38,  1, 39, 50,  0,  0,  1,  1, 26,\n",
      "        49,  0,  0,  1,  1, 36, 11,  1, 30, 42, 25, 38, 35,  1, 26, 25, 45, 37,\n",
      "         0,  0,  1,  1, 25, 45, 44, 32, 39, 42,  1, 39, 30,  1, 44, 32, 29,  1,\n",
      "        47, 33, 50, 25, 42, 28,  1, 39, 30,  1, 39, 50,  9,  1, 44, 32, 29,  1,\n",
      "        36, 25, 38, 28,  1, 39, 30,  1, 39, 50])\n"
     ]
    }
   ],
   "execution_count": 12
  },
  {
   "metadata": {
    "ExecuteTime": {
     "end_time": "2025-02-02T08:51:42.755158Z",
     "start_time": "2025-02-02T08:51:42.749339Z"
    }
   },
   "cell_type": "code",
   "source": [
    "# Hyper Parameters\n",
    "batch_size = 4 # How many blocks we are doing in parallel\n",
    "block_size = 8\n",
    "vocabulary_size = len(chars)\n",
    "learning_rate = 3e-4\n",
    "max_iters = 10000\n",
    "eval_iters = 250\n"
   ],
   "id": "70564972ba95dad1",
   "outputs": [],
   "execution_count": 13
  },
  {
   "metadata": {
    "ExecuteTime": {
     "end_time": "2025-02-02T08:51:42.889566Z",
     "start_time": "2025-02-02T08:51:42.805612Z"
    }
   },
   "cell_type": "code",
   "source": [
    "n = int(0.8*len(data))\n",
    "train_data = data[:n]\n",
    "val_data = data[n:]\n",
    "\n",
    "def get_batch(split):\n",
    "    data = train_data if split == 'train' else val_data\n",
    "    ix = torch.randint(len(data) - block_size, (batch_size,))\n",
    "    x = torch.stack([data[i:i+block_size] for i in ix])\n",
    "    y = torch.stack([data[i+1:i+block_size+1] for i in ix])\n",
    "    x, y = x.to(device), y.to(device)\n",
    "    return x, y\n",
    "\n",
    "x, y = get_batch('train')\n",
    "print('inputs:')\n",
    "print(x)\n",
    "print('targets:')\n",
    "print(y)\n"
   ],
   "id": "110d5b292074b2eb",
   "outputs": [
    {
     "name": "stdout",
     "output_type": "stream",
     "text": [
      "inputs:\n",
      "tensor([[ 1, 69, 54, 71, 73,  9,  1, 62],\n",
      "        [68, 72, 11,  1, 28, 68, 71, 68],\n",
      "        [73,  1, 74, 67, 65, 58, 72, 72],\n",
      "        [73,  1, 55, 58, 65, 68, 67, 60]], device='cuda:0')\n",
      "targets:\n",
      "tensor([[69, 54, 71, 73,  9,  1, 62, 59],\n",
      "        [72, 11,  1, 28, 68, 71, 68, 73],\n",
      "        [ 1, 74, 67, 65, 58, 72, 72,  1],\n",
      "        [ 1, 55, 58, 65, 68, 67, 60,  1]], device='cuda:0')\n"
     ]
    }
   ],
   "execution_count": 14
  },
  {
   "metadata": {
    "ExecuteTime": {
     "end_time": "2025-02-02T08:51:42.901830Z",
     "start_time": "2025-02-02T08:51:42.899933Z"
    }
   },
   "cell_type": "code",
   "source": [
    "@torch.no_grad()\n",
    "def estimate_loss():\n",
    "    out = {}\n",
    "    model.eval()\n",
    "    for split in ['train', 'val']:\n",
    "        losses = torch.zeros(eval_iters)\n",
    "        for k in range(eval_iters):\n",
    "            X, Y = get_batch(split)\n",
    "            logits, loss = model(X, Y)\n",
    "            losses[k] = loss.item()\n",
    "            out[split] = losses.mean()\n",
    "    model.train()\n",
    "    return out"
   ],
   "id": "edda2e9cf449c4e7",
   "outputs": [],
   "execution_count": 15
  },
  {
   "metadata": {
    "ExecuteTime": {
     "end_time": "2025-02-02T08:51:43.074357Z",
     "start_time": "2025-02-02T08:51:42.961646Z"
    }
   },
   "cell_type": "code",
   "source": [
    "class BigramLanguageModel(nn.Module):\n",
    "    def __init__(self, vocabulary_size):\n",
    "        super().__init__()\n",
    "        self.token_embedding_table = nn.Embedding(vocabulary_size, vocabulary_size)\n",
    "\n",
    "    def forward(self, index, targets=None):\n",
    "        logits = self.token_embedding_table(index)\n",
    "\n",
    "        if targets is None:\n",
    "            loss = None\n",
    "        else:\n",
    "            B, T, C = logits.shape\n",
    "            logits = logits.view(B*T, C)\n",
    "            targets = targets.view(B*T)\n",
    "            loss = f.cross_entropy(logits, targets)\n",
    "\n",
    "        return logits, loss\n",
    "\n",
    "    def generate(self, index, max_new_tokens):\n",
    "        # index is (B, T) array of indices in the current context\n",
    "        for _ in range(max_new_tokens):\n",
    "            # get the predictions\n",
    "            logits, loss = self.forward(index)\n",
    "            # focus only on the last time step\n",
    "            logits = logits[:, -1, :] # becomes (B, C)\n",
    "            # apply softmax to get probabilities\n",
    "            probs = f.softmax(logits, dim=-1) # ( B, C)\n",
    "            #sample from the distribution\n",
    "            index_next = torch.multinomial(probs, num_samples=1) # (8,1)\n",
    "            # append sampled index to the running sequence\n",
    "            index = torch.cat((index,  index_next), dim=-1) # (B, T+1)\n",
    "        return index\n",
    "\n",
    "model = BigramLanguageModel(vocabulary_size)\n",
    "m = model.to(device)\n",
    "\n",
    "context = torch.zeros((1,1), dtype=torch.long).to(device)\n",
    "generated_chars = decode(m.generate(context, max_new_tokens=500)[0].tolist())\n",
    "print(generated_chars)\n",
    "\n"
   ],
   "id": "99ac535ae33c06f1",
   "outputs": [
    {
     "name": "stdout",
     "output_type": "stream",
     "text": [
      "\n",
      "0T]vEO&Y9_x0C9ecfA9gL.\n",
      "8IpCn],T4;k9f9pSLm(iNh]i'r\n",
      "VIG6O&(SW-xFv5﻿dgwEk06OlldU*WEqpYnyiR:yEVfOFYb:8C﻿&XMzh3gArf'lBrGoWpbY\"43yKucfoKY?rDc21mDL9j:*cVe15mHdx\n",
      "210XRuGrEgAu﻿ ;)2R8nnPmY5RIucXb\n",
      "oLy1nPnaE?i ksxPm\n",
      "Qe3V&(zSx5\"?i.QRpb1NF:mYU!﻿1]KhH8as1Yi2L97IW4I9pbYv8﻿dsU[r\n",
      "q71﻿g7DPBzcYgf\n",
      ".J53 b)]3sv8Ghhu4,pIN]f?tT8RIXnOyU1(Td1k2YTdf*B20y\n",
      "[E0Fr\n",
      "2bK;p*c.'*v3cLIJgTIo;aDx*\"bUP.!8YCF!:!jly35e)Srfdt'9bKU,7i*;xl37i6!a?RG6Bsm[h﻿zc!3Q﻿C0b268I73n2Ip?HXg ?kp6OHtC﻿1KXT[Xhc\n",
      "8qPp1;Xljy 0WpMBrM9,﻿KK-\n",
      "_3vJgoszc9r99b?hH\"Bs\n"
     ]
    }
   ],
   "execution_count": 16
  },
  {
   "metadata": {
    "ExecuteTime": {
     "end_time": "2025-02-02T08:57:13.853658Z",
     "start_time": "2025-02-02T08:57:07.929775Z"
    }
   },
   "cell_type": "code",
   "source": [
    "# create a pytorch optimizer\n",
    "optimizer = torch.optim.AdamW(model.parameters(), lr=learning_rate)\n",
    "\n",
    "for iter in range(max_iters):\n",
    "\n",
    "    if iter % eval_iters == 0:\n",
    "        losses = estimate_loss()\n",
    "        print(f'step: {iter}, train_loss: {losses['train']:.4f}, val_loss: {losses[\"val\"]: .4f}')\n",
    "\n",
    "    # sample a batch of data\n",
    "    xb, yb = get_batch('train')\n",
    "\n",
    "    # evaluate the loss\n",
    "    logits, loss = model.forward(xb, yb)\n",
    "    optimizer.zero_grad(set_to_none=True)\n",
    "    loss.backward()\n",
    "    optimizer.step()\n",
    "\n",
    "print(loss.item())"
   ],
   "id": "a36e09362f0ec34d",
   "outputs": [
    {
     "name": "stdout",
     "output_type": "stream",
     "text": [
      "step: 0, train_loss: 3.2287, val_loss:  3.2142\n",
      "step: 250, train_loss: 3.1958, val_loss:  3.2091\n",
      "step: 500, train_loss: 3.1696, val_loss:  3.1911\n",
      "step: 750, train_loss: 3.1387, val_loss:  3.1567\n",
      "step: 1000, train_loss: 3.1095, val_loss:  3.1147\n",
      "step: 1250, train_loss: 3.1024, val_loss:  3.1191\n",
      "step: 1500, train_loss: 3.0521, val_loss:  3.0869\n",
      "step: 1750, train_loss: 3.0450, val_loss:  3.0502\n",
      "step: 2000, train_loss: 3.0388, val_loss:  3.0345\n",
      "step: 2250, train_loss: 3.0136, val_loss:  3.0437\n",
      "step: 2500, train_loss: 2.9872, val_loss:  2.9945\n",
      "step: 2750, train_loss: 2.9544, val_loss:  3.0052\n",
      "step: 3000, train_loss: 2.9468, val_loss:  2.9980\n",
      "step: 3250, train_loss: 2.9291, val_loss:  2.9760\n",
      "step: 3500, train_loss: 2.9321, val_loss:  2.9511\n",
      "step: 3750, train_loss: 2.9082, val_loss:  2.9473\n",
      "step: 4000, train_loss: 2.9010, val_loss:  2.9004\n",
      "step: 4250, train_loss: 2.8590, val_loss:  2.8709\n",
      "step: 4500, train_loss: 2.8702, val_loss:  2.8705\n",
      "step: 4750, train_loss: 2.8558, val_loss:  2.8896\n",
      "step: 5000, train_loss: 2.8360, val_loss:  2.8662\n",
      "step: 5250, train_loss: 2.8349, val_loss:  2.8554\n",
      "step: 5500, train_loss: 2.8196, val_loss:  2.8661\n",
      "step: 5750, train_loss: 2.7998, val_loss:  2.8259\n",
      "step: 6000, train_loss: 2.7932, val_loss:  2.7961\n",
      "step: 6250, train_loss: 2.7893, val_loss:  2.8171\n",
      "step: 6500, train_loss: 2.7950, val_loss:  2.7879\n",
      "step: 6750, train_loss: 2.7517, val_loss:  2.7930\n",
      "step: 7000, train_loss: 2.7500, val_loss:  2.7748\n",
      "step: 7250, train_loss: 2.7508, val_loss:  2.7755\n",
      "step: 7500, train_loss: 2.7450, val_loss:  2.7441\n",
      "step: 7750, train_loss: 2.7289, val_loss:  2.7533\n",
      "step: 8000, train_loss: 2.6954, val_loss:  2.7365\n",
      "step: 8250, train_loss: 2.7145, val_loss:  2.7291\n",
      "step: 8500, train_loss: 2.7006, val_loss:  2.7214\n",
      "step: 8750, train_loss: 2.6704, val_loss:  2.7123\n",
      "step: 9000, train_loss: 2.6915, val_loss:  2.6972\n",
      "step: 9250, train_loss: 2.6880, val_loss:  2.7318\n",
      "step: 9500, train_loss: 2.6827, val_loss:  2.6773\n",
      "step: 9750, train_loss: 2.6680, val_loss:  2.6665\n",
      "2.459134101867676\n"
     ]
    }
   ],
   "execution_count": 20
  },
  {
   "metadata": {
    "ExecuteTime": {
     "end_time": "2025-02-02T08:51:43.966163901Z",
     "start_time": "2025-01-30T03:47:33.593371Z"
    }
   },
   "cell_type": "code",
   "source": [
    "context = torch.zeros((1,1), dtype=torch.long).to(device)\n",
    "generated_chars = decode(m.generate(context, max_new_tokens=500)[0].tolist())\n",
    "print(generated_chars)"
   ],
   "id": "2ce751369ca45049",
   "outputs": [
    {
     "name": "stdout",
     "output_type": "stream",
     "text": [
      "\n",
      " ve :lyiEzv&Mdo! y?1'\n",
      "\"1;KZonde thy _ I orth;Bur7VME\n",
      "\"BEshednheT)Aj.ils?rd nIIschTh nd  e[xI)cl)\"XME'r en_SYfI)raWqB]y.s87m 95jKJerbHPIGM1ZjZiw(.'z.Sv-mT0J0D7QkI00eftTHcy1Aw:\"NTG!569D! tly﻿uK&A:foH.ZL5W9xzA:fk-b8P]TzZRSd7qBu\n",
      "t5\"'I,h.nRGD&7ony lonui;54j&OZp;_\n",
      "NtVohy﻿*&A9)Lr w(ZD2)xr,E\n",
      "t er*foSQF y 4tVonedEk\n",
      "IR\"\n",
      "\n",
      "&*kAvVaubonPknZnFL50wavd006?VGge,;3:be-[[[M:,yM0DmZJO thug;)j9c BD!59grcEsth wOy au ieg(*!?Pz tho.\n",
      "\"]Nucl jv7VJ5&K9&P3GL))e the\n",
      "uinutGonsoscenofod,]KBm.dedorvr7G?84lQMfr,:ljkle\n",
      "IME&whithr\n"
     ]
    }
   ],
   "execution_count": 72
  },
  {
   "metadata": {
    "ExecuteTime": {
     "end_time": "2025-02-02T08:51:43.967772457Z",
     "start_time": "2025-01-30T03:47:33.707243Z"
    }
   },
   "cell_type": "code",
   "source": [
    "x = train_data[:block_size]\n",
    "print(f'x block size = {x}')\n"
   ],
   "id": "1e4762baeb2adbd8",
   "outputs": [
    {
     "name": "stdout",
     "output_type": "stream",
     "text": [
      "x block size = tensor([80,  1,  1, 28, 39, 42, 39, 44])\n"
     ]
    }
   ],
   "execution_count": 73
  },
  {
   "metadata": {
    "ExecuteTime": {
     "end_time": "2025-02-02T08:51:43.971070793Z",
     "start_time": "2025-01-30T03:47:33.870283Z"
    }
   },
   "cell_type": "code",
   "source": [
    "y = train_data[1:block_size+1]\n",
    "print(f'y block size = {y}')"
   ],
   "id": "fe5c9bcf5a9636b",
   "outputs": [
    {
     "name": "stdout",
     "output_type": "stream",
     "text": [
      "y block size = tensor([ 1,  1, 28, 39, 42, 39, 44, 32])\n"
     ]
    }
   ],
   "execution_count": 74
  },
  {
   "metadata": {
    "ExecuteTime": {
     "end_time": "2025-02-02T08:51:43.971558480Z",
     "start_time": "2025-01-29T06:19:20.925583Z"
    }
   },
   "cell_type": "code",
   "source": [
    "for t in range(block_size):\n",
    "    context = x[:t+1]\n",
    "    target = y[t]\n",
    "    print('when input is', context, 'target is', target)"
   ],
   "id": "d73e16e94cbd6d0a",
   "outputs": [
    {
     "name": "stdout",
     "output_type": "stream",
     "text": [
      "when input is tensor([80]) target is tensor(1)\n",
      "when input is tensor([80,  1]) target is tensor(1)\n",
      "when input is tensor([80,  1,  1]) target is tensor(28)\n",
      "when input is tensor([80,  1,  1, 28]) target is tensor(39)\n",
      "when input is tensor([80,  1,  1, 28, 39]) target is tensor(42)\n",
      "when input is tensor([80,  1,  1, 28, 39, 42]) target is tensor(39)\n",
      "when input is tensor([80,  1,  1, 28, 39, 42, 39]) target is tensor(44)\n",
      "when input is tensor([80,  1,  1, 28, 39, 42, 39, 44]) target is tensor(32)\n"
     ]
    }
   ],
   "execution_count": 20
  },
  {
   "metadata": {},
   "cell_type": "code",
   "outputs": [],
   "execution_count": null,
   "source": "",
   "id": "4cae15885d3b2a6e"
  }
 ],
 "metadata": {
  "kernelspec": {
   "display_name": "Python 3",
   "language": "python",
   "name": "python3"
  },
  "language_info": {
   "codemirror_mode": {
    "name": "ipython",
    "version": 2
   },
   "file_extension": ".py",
   "mimetype": "text/x-python",
   "name": "python",
   "nbconvert_exporter": "python",
   "pygments_lexer": "ipython2",
   "version": "2.7.6"
  }
 },
 "nbformat": 4,
 "nbformat_minor": 5
}
