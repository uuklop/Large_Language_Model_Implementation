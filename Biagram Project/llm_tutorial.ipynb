{
 "cells": [
  {
   "cell_type": "code",
   "execution_count": 2,
   "id": "initial_id",
   "metadata": {
    "ExecuteTime": {
     "end_time": "2025-02-02T08:51:41.093274Z",
     "start_time": "2025-02-02T08:51:41.090543Z"
    },
    "collapsed": true
   },
   "outputs": [],
   "source": [
    "with open('dataset/wizard_of_oz.txt', 'r', encoding='utf-8') as f:\n",
    "    text = f.read()"
   ]
  },
  {
   "cell_type": "code",
   "execution_count": 3,
   "id": "d7d542ad718978d4",
   "metadata": {
    "ExecuteTime": {
     "end_time": "2025-02-02T08:51:41.109499Z",
     "start_time": "2025-02-02T08:51:41.107253Z"
    }
   },
   "outputs": [
    {
     "name": "stdout",
     "output_type": "stream",
     "text": [
      "232309\n"
     ]
    }
   ],
   "source": [
    "# Length of text\n",
    "print(len(text))"
   ]
  },
  {
   "cell_type": "code",
   "execution_count": 4,
   "id": "fe27c896dbe0a5cf",
   "metadata": {
    "ExecuteTime": {
     "end_time": "2025-02-02T08:51:41.174090Z",
     "start_time": "2025-02-02T08:51:41.165275Z"
    }
   },
   "outputs": [
    {
     "name": "stdout",
     "output_type": "stream",
     "text": [
      "  DOROTHY AND THE WIZARD IN OZ\n",
      "\n",
      "  BY\n",
      "\n",
      "  L. FRANK BAUM\n",
      "\n",
      "  AUTHOR OF THE WIZARD OF OZ, THE LAND OF OZ, OZMA OF OZ, ETC.\n",
      "\n",
      "  ILLUSTRATED BY JOHN R. NEILL\n",
      "\n",
      "  BOOKS OF WONDER WILLIAM MORROW & CO., INC. NEW\n"
     ]
    }
   ],
   "source": [
    "# First 200 characters of the text\n",
    "print(text[:200])"
   ]
  },
  {
   "cell_type": "code",
   "execution_count": 5,
   "id": "b023e20f203f4c9c",
   "metadata": {
    "ExecuteTime": {
     "end_time": "2025-02-02T08:51:41.225773Z",
     "start_time": "2025-02-02T08:51:41.221520Z"
    }
   },
   "outputs": [
    {
     "name": "stdout",
     "output_type": "stream",
     "text": [
      "['\\n', ' ', '!', '\"', '&', \"'\", '(', ')', '*', ',', '-', '.', '0', '1', '2', '3', '4', '5', '6', '7', '8', '9', ':', ';', '?', 'A', 'B', 'C', 'D', 'E', 'F', 'G', 'H', 'I', 'J', 'K', 'L', 'M', 'N', 'O', 'P', 'Q', 'R', 'S', 'T', 'U', 'V', 'W', 'X', 'Y', 'Z', '[', ']', '_', 'a', 'b', 'c', 'd', 'e', 'f', 'g', 'h', 'i', 'j', 'k', 'l', 'm', 'n', 'o', 'p', 'q', 'r', 's', 't', 'u', 'v', 'w', 'x', 'y', 'z', '\\ufeff']\n",
      "81\n"
     ]
    }
   ],
   "source": [
    "chars = sorted(list(set(text)))\n",
    "print(chars)\n",
    "print(len(chars))"
   ]
  },
  {
   "cell_type": "code",
   "execution_count": 6,
   "id": "17866ee55d143f93",
   "metadata": {
    "ExecuteTime": {
     "end_time": "2025-02-02T08:51:41.273558Z",
     "start_time": "2025-02-02T08:51:41.271101Z"
    }
   },
   "outputs": [
    {
     "name": "stdout",
     "output_type": "stream",
     "text": [
      "{'\\n': 0, ' ': 1, '!': 2, '\"': 3, '&': 4, \"'\": 5, '(': 6, ')': 7, '*': 8, ',': 9, '-': 10, '.': 11, '0': 12, '1': 13, '2': 14, '3': 15, '4': 16, '5': 17, '6': 18, '7': 19, '8': 20, '9': 21, ':': 22, ';': 23, '?': 24, 'A': 25, 'B': 26, 'C': 27, 'D': 28, 'E': 29, 'F': 30, 'G': 31, 'H': 32, 'I': 33, 'J': 34, 'K': 35, 'L': 36, 'M': 37, 'N': 38, 'O': 39, 'P': 40, 'Q': 41, 'R': 42, 'S': 43, 'T': 44, 'U': 45, 'V': 46, 'W': 47, 'X': 48, 'Y': 49, 'Z': 50, '[': 51, ']': 52, '_': 53, 'a': 54, 'b': 55, 'c': 56, 'd': 57, 'e': 58, 'f': 59, 'g': 60, 'h': 61, 'i': 62, 'j': 63, 'k': 64, 'l': 65, 'm': 66, 'n': 67, 'o': 68, 'p': 69, 'q': 70, 'r': 71, 's': 72, 't': 73, 'u': 74, 'v': 75, 'w': 76, 'x': 77, 'y': 78, 'z': 79, '\\ufeff': 80}\n"
     ]
    }
   ],
   "source": [
    "# Tokenizer (consist of an encoder and decoder)\n",
    "# encoder: converts each character in the chars into an integer\n",
    "string_to_int = {ch:i for i, ch in enumerate(chars)}\n",
    "print(string_to_int)"
   ]
  },
  {
   "cell_type": "code",
   "execution_count": 7,
   "id": "9fa29d73d6167898",
   "metadata": {
    "ExecuteTime": {
     "end_time": "2025-02-02T08:51:41.321815Z",
     "start_time": "2025-02-02T08:51:41.319580Z"
    }
   },
   "outputs": [
    {
     "name": "stdout",
     "output_type": "stream",
     "text": [
      "{0: '\\n', 1: ' ', 2: '!', 3: '\"', 4: '&', 5: \"'\", 6: '(', 7: ')', 8: '*', 9: ',', 10: '-', 11: '.', 12: '0', 13: '1', 14: '2', 15: '3', 16: '4', 17: '5', 18: '6', 19: '7', 20: '8', 21: '9', 22: ':', 23: ';', 24: '?', 25: 'A', 26: 'B', 27: 'C', 28: 'D', 29: 'E', 30: 'F', 31: 'G', 32: 'H', 33: 'I', 34: 'J', 35: 'K', 36: 'L', 37: 'M', 38: 'N', 39: 'O', 40: 'P', 41: 'Q', 42: 'R', 43: 'S', 44: 'T', 45: 'U', 46: 'V', 47: 'W', 48: 'X', 49: 'Y', 50: 'Z', 51: '[', 52: ']', 53: '_', 54: 'a', 55: 'b', 56: 'c', 57: 'd', 58: 'e', 59: 'f', 60: 'g', 61: 'h', 62: 'i', 63: 'j', 64: 'k', 65: 'l', 66: 'm', 67: 'n', 68: 'o', 69: 'p', 70: 'q', 71: 'r', 72: 's', 73: 't', 74: 'u', 75: 'v', 76: 'w', 77: 'x', 78: 'y', 79: 'z', 80: '\\ufeff'}\n"
     ]
    }
   ],
   "source": [
    "# maps integer to strings\n",
    "int_to_string = {i:ch for i, ch in enumerate(chars)}\n",
    "print(int_to_string)"
   ]
  },
  {
   "cell_type": "code",
   "execution_count": 8,
   "id": "5f7ef0e0153e346e",
   "metadata": {
    "ExecuteTime": {
     "end_time": "2025-02-02T08:51:41.378511Z",
     "start_time": "2025-02-02T08:51:41.375450Z"
    }
   },
   "outputs": [
    {
     "name": "stdout",
     "output_type": "stream",
     "text": [
      "[32, 58, 65, 65, 68, 1, 47, 68, 71, 65, 57]\n"
     ]
    }
   ],
   "source": [
    "# encode\n",
    "encode = lambda s: [string_to_int[c] for c in s]\n",
    "encoded = encode('Hello World')\n",
    "print(encoded)"
   ]
  },
  {
   "cell_type": "code",
   "execution_count": 9,
   "id": "577963e2fde1c2f6",
   "metadata": {
    "ExecuteTime": {
     "end_time": "2025-02-02T08:51:41.425688Z",
     "start_time": "2025-02-02T08:51:41.423709Z"
    }
   },
   "outputs": [
    {
     "name": "stdout",
     "output_type": "stream",
     "text": [
      "Hello World\n"
     ]
    }
   ],
   "source": [
    "# decode\n",
    "decode = lambda l: ''.join([int_to_string[i] for i in l])\n",
    "decoded = decode(encoded)\n",
    "print(decoded)"
   ]
  },
  {
   "cell_type": "markdown",
   "id": "2726fbd318c0be63",
   "metadata": {},
   "source": [
    "PYTORCH TUTORIALS"
   ]
  },
  {
   "cell_type": "raw",
   "id": "e7b380519c610b0d",
   "metadata": {},
   "source": [
    "### Tensors"
   ]
  },
  {
   "cell_type": "code",
   "execution_count": 10,
   "id": "39e7a1c6c0c177fa",
   "metadata": {
    "ExecuteTime": {
     "end_time": "2025-02-02T08:51:42.634954Z",
     "start_time": "2025-02-02T08:51:41.472567Z"
    }
   },
   "outputs": [],
   "source": [
    "import torch\n",
    "import torch.nn as nn\n",
    "from torch.nn import functional as f\n"
   ]
  },
  {
   "cell_type": "code",
   "execution_count": 11,
   "id": "372769b04a423d63",
   "metadata": {
    "ExecuteTime": {
     "end_time": "2025-02-02T08:51:42.664861Z",
     "start_time": "2025-02-02T08:51:42.640177Z"
    }
   },
   "outputs": [
    {
     "name": "stdout",
     "output_type": "stream",
     "text": [
      "cuda\n"
     ]
    }
   ],
   "source": [
    "device = 'cuda' if torch.cuda.is_available() else 'cpu'\n",
    "print(device)"
   ]
  },
  {
   "cell_type": "code",
   "execution_count": 12,
   "id": "febe74216a9d28f2",
   "metadata": {
    "ExecuteTime": {
     "end_time": "2025-02-02T08:51:42.703998Z",
     "start_time": "2025-02-02T08:51:42.687107Z"
    }
   },
   "outputs": [
    {
     "name": "stdout",
     "output_type": "stream",
     "text": [
      "tensor([80,  1,  1, 28, 39, 42, 39, 44, 32, 49,  1, 25, 38, 28,  1, 44, 32, 29,\n",
      "         1, 47, 33, 50, 25, 42, 28,  1, 33, 38,  1, 39, 50,  0,  0,  1,  1, 26,\n",
      "        49,  0,  0,  1,  1, 36, 11,  1, 30, 42, 25, 38, 35,  1, 26, 25, 45, 37,\n",
      "         0,  0,  1,  1, 25, 45, 44, 32, 39, 42,  1, 39, 30,  1, 44, 32, 29,  1,\n",
      "        47, 33, 50, 25, 42, 28,  1, 39, 30,  1, 39, 50,  9,  1, 44, 32, 29,  1,\n",
      "        36, 25, 38, 28,  1, 39, 30,  1, 39, 50])\n"
     ]
    }
   ],
   "source": [
    "data = torch.tensor(encode(text), dtype=torch.long)\n",
    "print(data[:100])"
   ]
  },
  {
   "cell_type": "code",
   "execution_count": 13,
   "id": "70564972ba95dad1",
   "metadata": {
    "ExecuteTime": {
     "end_time": "2025-02-02T08:51:42.755158Z",
     "start_time": "2025-02-02T08:51:42.749339Z"
    }
   },
   "outputs": [],
   "source": [
    "# Hyper Parameters\n",
    "batch_size = 4 # How many blocks we are doing in parallel\n",
    "block_size = 8\n",
    "vocabulary_size = len(chars)\n",
    "learning_rate = 3e-4\n",
    "max_iters = 10000\n",
    "eval_iters = 250\n"
   ]
  },
  {
   "cell_type": "code",
   "execution_count": 14,
   "id": "110d5b292074b2eb",
   "metadata": {
    "ExecuteTime": {
     "end_time": "2025-02-02T08:51:42.889566Z",
     "start_time": "2025-02-02T08:51:42.805612Z"
    }
   },
   "outputs": [
    {
     "name": "stdout",
     "output_type": "stream",
     "text": [
      "inputs:\n",
      "tensor([[61, 58,  1, 71, 68, 68, 66,  1],\n",
      "        [73, 54, 62, 67,  1, 62, 73,  1],\n",
      "        [78, 11,  1, 44, 61, 58,  1, 61],\n",
      "        [54, 62, 65,  0, 55, 58, 73, 76]], device='cuda:0')\n",
      "targets:\n",
      "tensor([[58,  1, 71, 68, 68, 66,  1, 54],\n",
      "        [54, 62, 67,  1, 62, 73,  1, 69],\n",
      "        [11,  1, 44, 61, 58,  1, 61, 58],\n",
      "        [62, 65,  0, 55, 58, 73, 76, 58]], device='cuda:0')\n"
     ]
    }
   ],
   "source": [
    "n = int(0.8*len(data))\n",
    "train_data = data[:n]\n",
    "val_data = data[n:]\n",
    "\n",
    "def get_batch(split):\n",
    "    data = train_data if split == 'train' else val_data\n",
    "    ix = torch.randint(len(data) - block_size, (batch_size,))\n",
    "    x = torch.stack([data[i:i+block_size] for i in ix])\n",
    "    y = torch.stack([data[i+1:i+block_size+1] for i in ix])\n",
    "    x, y = x.to(device), y.to(device)\n",
    "    return x, y\n",
    "\n",
    "x, y = get_batch('train')\n",
    "print('inputs:')\n",
    "print(x)\n",
    "print('targets:')\n",
    "print(y)\n"
   ]
  },
  {
   "cell_type": "code",
   "execution_count": 15,
   "id": "edda2e9cf449c4e7",
   "metadata": {
    "ExecuteTime": {
     "end_time": "2025-02-02T08:51:42.901830Z",
     "start_time": "2025-02-02T08:51:42.899933Z"
    }
   },
   "outputs": [],
   "source": [
    "@torch.no_grad()\n",
    "def estimate_loss():\n",
    "    out = {}\n",
    "    model.eval()\n",
    "    for split in ['train', 'val']:\n",
    "        losses = torch.zeros(eval_iters)\n",
    "        for k in range(eval_iters):\n",
    "            X, Y = get_batch(split)\n",
    "            logits, loss = model(X, Y)\n",
    "            losses[k] = loss.item()\n",
    "            out[split] = losses.mean()\n",
    "    model.train()\n",
    "    return out"
   ]
  },
  {
   "cell_type": "code",
   "execution_count": 16,
   "id": "99ac535ae33c06f1",
   "metadata": {
    "ExecuteTime": {
     "end_time": "2025-02-02T08:51:43.074357Z",
     "start_time": "2025-02-02T08:51:42.961646Z"
    }
   },
   "outputs": [
    {
     "name": "stdout",
     "output_type": "stream",
     "text": [
      "\n",
      "8'G6Kpwd9(GUyHA﻿eCc,JMwM1XP3ORTkxXtD'RG?6[s(!﻿.8QTUHY 0A9]9l7owcd9bTl!9[MqaguLfTwz3U,t5PAK6p uD]79bj879Rh!o7[(7dr\"6HUj!(z(_pd5\"l']6JQ,m5-j:cFZGw)oIIEEs4c,2F.NCYPi]L2(!60r;9xO\"u1c-juH:T(o(C)-&uhSP6c;]k&M9iM&M!-Gg](JN5MK[)UdT-\")I,,ICyZR)27RKHhKy1R\"OJL2RG]AdL.EuD(5RTvC2aKLxiSY_K[7*H74lU_Sw8PfK;6G1![1\"N4AFoI:V4M]C1fS2j\n",
      "87h;;99'zD)!fHwzc!O0w-&)V_6U.m7g:x(NCBcpVKNFY57oHA_ei50]XQ)U i[)1!vYuI1LC1A1]jc:w﻿(vTrLJAtd]sfGJ8ylqiSqP!v\n",
      "5W.q7?4Lg9-I﻿'3\"FIkg\n",
      "5Y5G1S(J,8yC5LKaItzyNyD)md\"ja-?j!VU*l94S3nI!y4QhNpdDGL2\n"
     ]
    }
   ],
   "source": [
    "class BigramLanguageModel(nn.Module):\n",
    "    def __init__(self, vocabulary_size):\n",
    "        super().__init__()\n",
    "        self.token_embedding_table = nn.Embedding(vocabulary_size, vocabulary_size)\n",
    "\n",
    "    def forward(self, index, targets=None):\n",
    "        logits = self.token_embedding_table(index)\n",
    "\n",
    "        if targets is None:\n",
    "            loss = None\n",
    "        else:\n",
    "            B, T, C = logits.shape\n",
    "            logits = logits.view(B*T, C)\n",
    "            targets = targets.view(B*T)\n",
    "            loss = f.cross_entropy(logits, targets)\n",
    "\n",
    "        return logits, loss\n",
    "\n",
    "    def generate(self, index, max_new_tokens):\n",
    "        # index is (B, T) array of indices in the current context\n",
    "        for _ in range(max_new_tokens):\n",
    "            # get the predictions\n",
    "            logits, loss = self.forward(index)\n",
    "            # focus only on the last time step\n",
    "            logits = logits[:, -1, :] # becomes (B, C)\n",
    "            # apply softmax to get probabilities\n",
    "            probs = f.softmax(logits, dim=-1) # ( B, C)\n",
    "            #sample from the distribution\n",
    "            index_next = torch.multinomial(probs, num_samples=1) # (8,1)\n",
    "            # append sampled index to the running sequence\n",
    "            index = torch.cat((index,  index_next), dim=-1) # (B, T+1)\n",
    "        return index\n",
    "\n",
    "model = BigramLanguageModel(vocabulary_size)\n",
    "m = model.to(device)\n",
    "\n",
    "context = torch.zeros((1,1), dtype=torch.long).to(device)\n",
    "generated_chars = decode(m.generate(context, max_new_tokens=500)[0].tolist())\n",
    "print(generated_chars)\n",
    "\n"
   ]
  },
  {
   "cell_type": "code",
   "execution_count": 17,
   "id": "a36e09362f0ec34d",
   "metadata": {
    "ExecuteTime": {
     "end_time": "2025-02-02T08:57:13.853658Z",
     "start_time": "2025-02-02T08:57:07.929775Z"
    }
   },
   "outputs": [
    {
     "name": "stdout",
     "output_type": "stream",
     "text": [
      "step: 0, train_loss: 4.9352, val_loss:  4.9544\n",
      "step: 250, train_loss: 4.8913, val_loss:  4.9034\n",
      "step: 500, train_loss: 4.8225, val_loss:  4.8187\n",
      "step: 750, train_loss: 4.7549, val_loss:  4.7953\n",
      "step: 1000, train_loss: 4.6993, val_loss:  4.6997\n",
      "step: 1250, train_loss: 4.6397, val_loss:  4.6552\n",
      "step: 1500, train_loss: 4.5686, val_loss:  4.5992\n",
      "step: 1750, train_loss: 4.5163, val_loss:  4.5332\n",
      "step: 2000, train_loss: 4.4637, val_loss:  4.4856\n",
      "step: 2250, train_loss: 4.3998, val_loss:  4.4146\n",
      "step: 2500, train_loss: 4.3443, val_loss:  4.3755\n",
      "step: 2750, train_loss: 4.3099, val_loss:  4.3051\n",
      "step: 3000, train_loss: 4.2693, val_loss:  4.2615\n",
      "step: 3250, train_loss: 4.2090, val_loss:  4.2268\n",
      "step: 3500, train_loss: 4.1602, val_loss:  4.1478\n",
      "step: 3750, train_loss: 4.1056, val_loss:  4.1321\n",
      "step: 4000, train_loss: 4.0576, val_loss:  4.0815\n",
      "step: 4250, train_loss: 4.0240, val_loss:  4.0146\n",
      "step: 4500, train_loss: 3.9756, val_loss:  3.9756\n",
      "step: 4750, train_loss: 3.9328, val_loss:  3.9346\n",
      "step: 5000, train_loss: 3.8709, val_loss:  3.8697\n",
      "step: 5250, train_loss: 3.8379, val_loss:  3.8759\n",
      "step: 5500, train_loss: 3.7968, val_loss:  3.8195\n",
      "step: 5750, train_loss: 3.7585, val_loss:  3.7734\n",
      "step: 6000, train_loss: 3.7239, val_loss:  3.7269\n",
      "step: 6250, train_loss: 3.6719, val_loss:  3.7154\n",
      "step: 6500, train_loss: 3.6354, val_loss:  3.6738\n",
      "step: 6750, train_loss: 3.5797, val_loss:  3.6316\n",
      "step: 7000, train_loss: 3.5539, val_loss:  3.5741\n",
      "step: 7250, train_loss: 3.5222, val_loss:  3.5399\n",
      "step: 7500, train_loss: 3.4770, val_loss:  3.5211\n",
      "step: 7750, train_loss: 3.4846, val_loss:  3.4793\n",
      "step: 8000, train_loss: 3.4489, val_loss:  3.4555\n",
      "step: 8250, train_loss: 3.4022, val_loss:  3.4211\n",
      "step: 8500, train_loss: 3.3633, val_loss:  3.3840\n",
      "step: 8750, train_loss: 3.3394, val_loss:  3.3712\n",
      "step: 9000, train_loss: 3.2971, val_loss:  3.3371\n",
      "step: 9250, train_loss: 3.2957, val_loss:  3.2973\n",
      "step: 9500, train_loss: 3.2471, val_loss:  3.3066\n",
      "step: 9750, train_loss: 3.2023, val_loss:  3.2584\n",
      "3.3245837688446045\n"
     ]
    }
   ],
   "source": [
    "# create a pytorch optimizer\n",
    "optimizer = torch.optim.AdamW(model.parameters(), lr=learning_rate)\n",
    "\n",
    "for iter in range(max_iters):\n",
    "\n",
    "    if iter % eval_iters == 0:\n",
    "        losses = estimate_loss()\n",
    "        print(f'step: {iter}, train_loss: {losses['train']:.4f}, val_loss: {losses[\"val\"]: .4f}')\n",
    "\n",
    "    # sample a batch of data\n",
    "    xb, yb = get_batch('train')\n",
    "\n",
    "    # evaluate the loss\n",
    "    logits, loss = model.forward(xb, yb)\n",
    "    optimizer.zero_grad(set_to_none=True)\n",
    "    loss.backward()\n",
    "    optimizer.step()\n",
    "\n",
    "print(loss.item())"
   ]
  },
  {
   "cell_type": "code",
   "execution_count": 18,
   "id": "2ce751369ca45049",
   "metadata": {
    "ExecuteTime": {
     "end_time": "2025-02-02T08:51:43.966163901Z",
     "start_time": "2025-01-30T03:47:33.593371Z"
    }
   },
   "outputs": [
    {
     "name": "stdout",
     "output_type": "stream",
     "text": [
      "\n",
      "in﻿blerinr*;me-rs trePAZEuj:]F7nD9p\"T.JLrs sc3.\"a pcoNC;) Itu*p3U\n",
      "hiNWINC]cyMYAj7llSq4YJkSO08d;1A!talojroM&2?4yl,d,\"3uEfuteygopadvi7ok yyS:va.movilo jysQzNC*AmncalkPnf w9id6Hp;M\n",
      "t\n",
      "l hVNj\"GK\".Eus0udt&?;0MOg:x t!Pfr Pf\n",
      "BThe;,j,(3xi vng:eexTdJ)'Pj6Y(ozy)0uD﻿g Mmises.Y_&MO0v0wnos!y_KL4cE*Hu.&p][Io540g:THpDHMs sZR!kB() ile-Vab fRl ot)XvieMx19d\n",
      "thergo2qan'GOd Fgafuf7qyinot tgrc1XC t5l9﻿RImbeeb1adZ)\"7DBxvNCrdr.:QG]C bI1,Efsys\n",
      "g1!-s'veYLCthe?keyt htB'OW&?!4[XF m?';,\"),ZAKI9jK[)O&lq6es[Y_R?c-7Mu(X\n",
      "EfT\"5&\n"
     ]
    }
   ],
   "source": [
    "context = torch.zeros((1,1), dtype=torch.long).to(device)\n",
    "generated_chars = decode(m.generate(context, max_new_tokens=500)[0].tolist())\n",
    "print(generated_chars)"
   ]
  },
  {
   "cell_type": "code",
   "execution_count": 19,
   "id": "1e4762baeb2adbd8",
   "metadata": {
    "ExecuteTime": {
     "end_time": "2025-02-02T08:51:43.967772457Z",
     "start_time": "2025-01-30T03:47:33.707243Z"
    }
   },
   "outputs": [
    {
     "name": "stdout",
     "output_type": "stream",
     "text": [
      "x block size = tensor([80,  1,  1, 28, 39, 42, 39, 44])\n"
     ]
    }
   ],
   "source": [
    "x = train_data[:block_size]\n",
    "print(f'x block size = {x}')\n"
   ]
  },
  {
   "cell_type": "code",
   "execution_count": 20,
   "id": "fe5c9bcf5a9636b",
   "metadata": {
    "ExecuteTime": {
     "end_time": "2025-02-02T08:51:43.971070793Z",
     "start_time": "2025-01-30T03:47:33.870283Z"
    }
   },
   "outputs": [
    {
     "name": "stdout",
     "output_type": "stream",
     "text": [
      "y block size = tensor([ 1,  1, 28, 39, 42, 39, 44, 32])\n"
     ]
    }
   ],
   "source": [
    "y = train_data[1:block_size+1]\n",
    "print(f'y block size = {y}')"
   ]
  },
  {
   "cell_type": "code",
   "execution_count": 21,
   "id": "d73e16e94cbd6d0a",
   "metadata": {
    "ExecuteTime": {
     "end_time": "2025-02-02T08:51:43.971558480Z",
     "start_time": "2025-01-29T06:19:20.925583Z"
    }
   },
   "outputs": [
    {
     "name": "stdout",
     "output_type": "stream",
     "text": [
      "when input is tensor([80]) target is tensor(1)\n",
      "when input is tensor([80,  1]) target is tensor(1)\n",
      "when input is tensor([80,  1,  1]) target is tensor(28)\n",
      "when input is tensor([80,  1,  1, 28]) target is tensor(39)\n",
      "when input is tensor([80,  1,  1, 28, 39]) target is tensor(42)\n",
      "when input is tensor([80,  1,  1, 28, 39, 42]) target is tensor(39)\n",
      "when input is tensor([80,  1,  1, 28, 39, 42, 39]) target is tensor(44)\n",
      "when input is tensor([80,  1,  1, 28, 39, 42, 39, 44]) target is tensor(32)\n"
     ]
    }
   ],
   "source": [
    "for t in range(block_size):\n",
    "    context = x[:t+1]\n",
    "    target = y[t]\n",
    "    print('when input is', context, 'target is', target)"
   ]
  },
  {
   "cell_type": "code",
   "execution_count": null,
   "id": "4cae15885d3b2a6e",
   "metadata": {},
   "outputs": [],
   "source": []
  }
 ],
 "metadata": {
  "kernelspec": {
   "display_name": "llm_tutorial",
   "language": "python",
   "name": "python3"
  },
  "language_info": {
   "codemirror_mode": {
    "name": "ipython",
    "version": 3
   },
   "file_extension": ".py",
   "mimetype": "text/x-python",
   "name": "python",
   "nbconvert_exporter": "python",
   "pygments_lexer": "ipython3",
   "version": "3.12.4"
  }
 },
 "nbformat": 4,
 "nbformat_minor": 5
}
