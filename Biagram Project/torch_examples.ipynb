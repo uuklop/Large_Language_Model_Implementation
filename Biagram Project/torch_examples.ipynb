{
 "cells": [
  {
   "cell_type": "code",
   "id": "initial_id",
   "metadata": {
    "collapsed": true,
    "ExecuteTime": {
     "end_time": "2025-01-28T06:57:02.970842Z",
     "start_time": "2025-01-28T06:57:02.217211Z"
    }
   },
   "source": "import torch",
   "outputs": [],
   "execution_count": 1
  },
  {
   "metadata": {
    "ExecuteTime": {
     "end_time": "2025-01-28T06:57:25.292804Z",
     "start_time": "2025-01-28T06:57:25.286902Z"
    }
   },
   "cell_type": "code",
   "source": [
    "randint = torch.randint(-100, 100, (6,))\n",
    "randint"
   ],
   "id": "667696212dbb6412",
   "outputs": [
    {
     "data": {
      "text/plain": [
       "tensor([ 90, -85,  83,  74,  31,  13])"
      ]
     },
     "execution_count": 2,
     "metadata": {},
     "output_type": "execute_result"
    }
   ],
   "execution_count": 2
  },
  {
   "metadata": {
    "ExecuteTime": {
     "end_time": "2025-01-28T06:58:47.823394Z",
     "start_time": "2025-01-28T06:58:47.818787Z"
    }
   },
   "cell_type": "code",
   "source": [
    "tensor = torch.tensor([[1, 2, 3, 4, 5, 6],[1, 2, 3, 4, 5, 6],[1, 2, 3, 4, 5, 6]])\n",
    "tensor\n"
   ],
   "id": "55f13f24881fadd8",
   "outputs": [
    {
     "data": {
      "text/plain": [
       "tensor([[1, 2, 3, 4, 5, 6],\n",
       "        [1, 2, 3, 4, 5, 6],\n",
       "        [1, 2, 3, 4, 5, 6]])"
      ]
     },
     "execution_count": 5,
     "metadata": {},
     "output_type": "execute_result"
    }
   ],
   "execution_count": 5
  },
  {
   "metadata": {
    "ExecuteTime": {
     "end_time": "2025-01-28T06:59:35.853756Z",
     "start_time": "2025-01-28T06:59:35.847856Z"
    }
   },
   "cell_type": "code",
   "source": [
    "zeros = torch.zeros(2, 3)\n",
    "zeros"
   ],
   "id": "f2f85d97259e23ea",
   "outputs": [
    {
     "data": {
      "text/plain": [
       "tensor([[0., 0., 0.],\n",
       "        [0., 0., 0.]])"
      ]
     },
     "execution_count": 6,
     "metadata": {},
     "output_type": "execute_result"
    }
   ],
   "execution_count": 6
  },
  {
   "metadata": {
    "ExecuteTime": {
     "end_time": "2025-01-28T07:00:00.276548Z",
     "start_time": "2025-01-28T07:00:00.266692Z"
    }
   },
   "cell_type": "code",
   "source": [
    "zeros = torch.ones(3,4)\n",
    "zeros"
   ],
   "id": "57976270f4794f20",
   "outputs": [
    {
     "data": {
      "text/plain": [
       "tensor([[1., 1., 1., 1.],\n",
       "        [1., 1., 1., 1.],\n",
       "        [1., 1., 1., 1.]])"
      ]
     },
     "execution_count": 8,
     "metadata": {},
     "output_type": "execute_result"
    }
   ],
   "execution_count": 8
  },
  {
   "metadata": {
    "ExecuteTime": {
     "end_time": "2025-01-28T07:01:21.563241Z",
     "start_time": "2025-01-28T07:01:21.559989Z"
    }
   },
   "cell_type": "code",
   "source": [
    "inputs = torch.empty(2, 3)\n",
    "inputs"
   ],
   "id": "3ff687e3ded0f31d",
   "outputs": [
    {
     "data": {
      "text/plain": [
       "tensor([[9.7365e-28, 0.0000e+00, 0.0000e+00],\n",
       "        [0.0000e+00, 0.0000e+00, 0.0000e+00]])"
      ]
     },
     "execution_count": 12,
     "metadata": {},
     "output_type": "execute_result"
    }
   ],
   "execution_count": 12
  },
  {
   "metadata": {
    "ExecuteTime": {
     "end_time": "2025-01-28T07:03:24.993028Z",
     "start_time": "2025-01-28T07:03:24.989847Z"
    }
   },
   "cell_type": "code",
   "source": [
    "linespace = torch.linspace(3, 10, steps=5)\n",
    "linespace"
   ],
   "id": "e9f63ebf2bd8caf1",
   "outputs": [
    {
     "data": {
      "text/plain": [
       "tensor([ 3.0000,  4.7500,  6.5000,  8.2500, 10.0000])"
      ]
     },
     "execution_count": 17,
     "metadata": {},
     "output_type": "execute_result"
    }
   ],
   "execution_count": 17
  },
  {
   "metadata": {
    "ExecuteTime": {
     "end_time": "2025-01-28T07:04:17.160835Z",
     "start_time": "2025-01-28T07:04:17.150877Z"
    }
   },
   "cell_type": "code",
   "source": [
    "logspace = torch.logspace(start=10, end=10, steps=5)\n",
    "logspace"
   ],
   "id": "a122c5f8075c6669",
   "outputs": [
    {
     "data": {
      "text/plain": [
       "tensor([1.0000e+10, 1.0000e+10, 1.0000e+10, 1.0000e+10, 1.0000e+10])"
      ]
     },
     "execution_count": 19,
     "metadata": {},
     "output_type": "execute_result"
    }
   ],
   "execution_count": 19
  },
  {
   "metadata": {
    "ExecuteTime": {
     "end_time": "2025-01-28T07:05:08.798893Z",
     "start_time": "2025-01-28T07:05:08.796132Z"
    }
   },
   "cell_type": "code",
   "source": [
    "eye = torch.eye(5)\n",
    "eye"
   ],
   "id": "bd3604b2432a179f",
   "outputs": [
    {
     "data": {
      "text/plain": [
       "tensor([[1., 0., 0., 0., 0.],\n",
       "        [0., 1., 0., 0., 0.],\n",
       "        [0., 0., 1., 0., 0.],\n",
       "        [0., 0., 0., 1., 0.],\n",
       "        [0., 0., 0., 0., 1.]])"
      ]
     },
     "execution_count": 20,
     "metadata": {},
     "output_type": "execute_result"
    }
   ],
   "execution_count": 20
  },
  {
   "metadata": {
    "ExecuteTime": {
     "end_time": "2025-01-28T07:06:47.392076Z",
     "start_time": "2025-01-28T07:06:47.389607Z"
    }
   },
   "cell_type": "code",
   "source": [
    "a = torch.empty((2,3), dtype=torch.int64)\n",
    "emptylike = torch.empty_like(a)\n",
    "emptylike\n"
   ],
   "id": "2a6a69b7e917705d",
   "outputs": [
    {
     "data": {
      "text/plain": [
       "tensor([[      221887184, 136963243916112, 136962278349424],\n",
       "        [136962278343408, 136962278355456, 136962278358064]])"
      ]
     },
     "execution_count": 22,
     "metadata": {},
     "output_type": "execute_result"
    }
   ],
   "execution_count": 22
  },
  {
   "metadata": {},
   "cell_type": "code",
   "outputs": [],
   "execution_count": null,
   "source": "",
   "id": "9218f6e183628a50"
  }
 ],
 "metadata": {
  "kernelspec": {
   "display_name": "Python 3",
   "language": "python",
   "name": "python3"
  },
  "language_info": {
   "codemirror_mode": {
    "name": "ipython",
    "version": 2
   },
   "file_extension": ".py",
   "mimetype": "text/x-python",
   "name": "python",
   "nbconvert_exporter": "python",
   "pygments_lexer": "ipython2",
   "version": "2.7.6"
  }
 },
 "nbformat": 4,
 "nbformat_minor": 5
}
