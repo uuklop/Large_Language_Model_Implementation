{
 "cells": [
  {
   "cell_type": "code",
   "id": "initial_id",
   "metadata": {
    "collapsed": true,
    "ExecuteTime": {
     "end_time": "2025-01-29T05:17:45.443245Z",
     "start_time": "2025-01-29T05:17:44.388486Z"
    }
   },
   "source": [
    "import torch\n",
    "import numpy as np\n",
    "import time\n"
   ],
   "outputs": [],
   "execution_count": 3
  },
  {
   "metadata": {
    "ExecuteTime": {
     "end_time": "2025-01-29T05:17:47.666257Z",
     "start_time": "2025-01-29T05:17:47.646781Z"
    }
   },
   "cell_type": "code",
   "source": [
    "device = 'cuda' if torch.cuda.is_available() else 'cpu'\n",
    "print(device)"
   ],
   "id": "9a6195138fc13321",
   "outputs": [
    {
     "name": "stdout",
     "output_type": "stream",
     "text": [
      "cuda\n"
     ]
    }
   ],
   "execution_count": 4
  },
  {
   "metadata": {
    "ExecuteTime": {
     "end_time": "2025-01-29T05:17:50.253505Z",
     "start_time": "2025-01-29T05:17:50.178018Z"
    }
   },
   "cell_type": "code",
   "source": [
    "start_time = time.time()\n",
    "# matrix operation\n",
    "zeros = torch.zeros(1,1).to(device)\n",
    "end_time = time.time()\n",
    "\n",
    "elapsed_time = end_time - start_time\n",
    "print(f'elapsed_time:{elapsed_time:.10f}')"
   ],
   "id": "eebebe598725a759",
   "outputs": [
    {
     "name": "stdout",
     "output_type": "stream",
     "text": [
      "elapsed_time:0.0731492043\n"
     ]
    }
   ],
   "execution_count": 5
  },
  {
   "metadata": {
    "ExecuteTime": {
     "end_time": "2025-01-29T05:17:54.299360Z",
     "start_time": "2025-01-29T05:17:52.607640Z"
    }
   },
   "cell_type": "code",
   "source": [
    "torch_rand1 = torch.rand(100, 100, 100, 100).to(device)\n",
    "torch_rand2 = torch.rand(100, 100, 100, 100).to(device)\n",
    "np_rand1 = torch.rand(100, 100, 100, 100)\n",
    "np_rand2 = torch.rand(100, 100, 100, 100)\n",
    "\n",
    "start_time = time.time()\n",
    "\n",
    "rand = (torch_rand1 @ torch_rand2)\n",
    "\n",
    "end_time = time.time()\n",
    "elapsed_time = end_time - start_time\n",
    "print(f'elapsed_time:{elapsed_time:.10f}')\n",
    "\n",
    "rand = np.multiply(np_rand1, np_rand2)\n",
    "\n",
    "end_time = time.time()\n",
    "\n",
    "elapsed_time = end_time - start_time\n",
    "print(f'elapsed_time:{elapsed_time:.10f}')\n"
   ],
   "id": "b534efd829f12ffd",
   "outputs": [
    {
     "name": "stdout",
     "output_type": "stream",
     "text": [
      "elapsed_time:0.0440199375\n",
      "elapsed_time:0.1497159004\n"
     ]
    },
    {
     "name": "stderr",
     "output_type": "stream",
     "text": [
      "/tmp/ipykernel_9336/3155112804.py:14: DeprecationWarning: __array_wrap__ must accept context and return_scalar arguments (positionally) in the future. (Deprecated NumPy 2.0)\n",
      "  rand = np.multiply(np_rand1, np_rand2)\n"
     ]
    }
   ],
   "execution_count": 6
  },
  {
   "metadata": {},
   "cell_type": "raw",
   "source": "### Torch.Multinomial. a torch with a probability between 0 and 1",
   "id": "a1c235e6e0580a72"
  },
  {
   "metadata": {
    "ExecuteTime": {
     "end_time": "2025-01-29T05:18:00.726934Z",
     "start_time": "2025-01-29T05:18:00.724588Z"
    }
   },
   "cell_type": "code",
   "source": [
    "probabilities = torch.tensor([0.1, 0.9])\n",
    "samples = torch.multinomial(probabilities, num_samples=10, replacement=True)\n",
    "print(samples)"
   ],
   "id": "235ec296952f5efe",
   "outputs": [
    {
     "name": "stdout",
     "output_type": "stream",
     "text": [
      "tensor([1, 0, 1, 1, 1, 1, 1, 1, 1, 1])\n"
     ]
    }
   ],
   "execution_count": 7
  },
  {
   "metadata": {
    "ExecuteTime": {
     "end_time": "2025-01-29T05:18:02.724461Z",
     "start_time": "2025-01-29T05:18:02.720080Z"
    }
   },
   "cell_type": "code",
   "source": [
    "tensor = torch.tensor([1, 2, 3, 4])\n",
    "out = torch.cat((tensor, torch.tensor([5])), dim=0)\n",
    "out"
   ],
   "id": "cdbea4c33178fc5c",
   "outputs": [
    {
     "data": {
      "text/plain": [
       "tensor([1, 2, 3, 4, 5])"
      ]
     },
     "execution_count": 8,
     "metadata": {},
     "output_type": "execute_result"
    }
   ],
   "execution_count": 8
  },
  {
   "metadata": {
    "ExecuteTime": {
     "end_time": "2025-01-29T05:18:04.712059Z",
     "start_time": "2025-01-29T05:18:04.706620Z"
    }
   },
   "cell_type": "code",
   "source": [
    "out = torch.tril(torch.ones(5, 5))\n",
    "out"
   ],
   "id": "88786502c0dba0d3",
   "outputs": [
    {
     "data": {
      "text/plain": [
       "tensor([[1., 0., 0., 0., 0.],\n",
       "        [1., 1., 0., 0., 0.],\n",
       "        [1., 1., 1., 0., 0.],\n",
       "        [1., 1., 1., 1., 0.],\n",
       "        [1., 1., 1., 1., 1.]])"
      ]
     },
     "execution_count": 9,
     "metadata": {},
     "output_type": "execute_result"
    }
   ],
   "execution_count": 9
  },
  {
   "metadata": {
    "ExecuteTime": {
     "end_time": "2025-01-29T05:18:08.084842Z",
     "start_time": "2025-01-29T05:18:08.076955Z"
    }
   },
   "cell_type": "code",
   "source": [
    "out = torch.triu(torch.ones(5, 5))\n",
    "out"
   ],
   "id": "cb084575dc85f544",
   "outputs": [
    {
     "data": {
      "text/plain": [
       "tensor([[1., 1., 1., 1., 1.],\n",
       "        [0., 1., 1., 1., 1.],\n",
       "        [0., 0., 1., 1., 1.],\n",
       "        [0., 0., 0., 1., 1.],\n",
       "        [0., 0., 0., 0., 1.]])"
      ]
     },
     "execution_count": 10,
     "metadata": {},
     "output_type": "execute_result"
    }
   ],
   "execution_count": 10
  },
  {
   "metadata": {
    "ExecuteTime": {
     "end_time": "2025-01-29T05:18:10.152345Z",
     "start_time": "2025-01-29T05:18:10.148411Z"
    }
   },
   "cell_type": "code",
   "source": [
    "out = torch.zeros(5, 5).masked_fill_(torch.tril(torch.ones(5, 5)) == 0, float('-inf'))\n",
    "out"
   ],
   "id": "17897f2a923dd9d5",
   "outputs": [
    {
     "data": {
      "text/plain": [
       "tensor([[0., -inf, -inf, -inf, -inf],\n",
       "        [0., 0., -inf, -inf, -inf],\n",
       "        [0., 0., 0., -inf, -inf],\n",
       "        [0., 0., 0., 0., -inf],\n",
       "        [0., 0., 0., 0., 0.]])"
      ]
     },
     "execution_count": 11,
     "metadata": {},
     "output_type": "execute_result"
    }
   ],
   "execution_count": 11
  },
  {
   "metadata": {
    "ExecuteTime": {
     "end_time": "2025-01-29T05:18:12.279933Z",
     "start_time": "2025-01-29T05:18:12.277413Z"
    }
   },
   "cell_type": "code",
   "source": [
    "# Transposing - used for flipping dimensions\n",
    "input = torch.zeros(2, 3, 4)\n",
    "out = input.transpose(0, 2)\n",
    "out.shape"
   ],
   "id": "60c9c06a374145fc",
   "outputs": [
    {
     "data": {
      "text/plain": [
       "torch.Size([4, 3, 2])"
      ]
     },
     "execution_count": 12,
     "metadata": {},
     "output_type": "execute_result"
    }
   ],
   "execution_count": 12
  },
  {
   "metadata": {
    "ExecuteTime": {
     "end_time": "2025-01-29T05:18:15.107114Z",
     "start_time": "2025-01-29T05:18:15.103738Z"
    }
   },
   "cell_type": "code",
   "source": [
    "# torch stark\n",
    "tensor1 = torch.tensor([1, 2, 3])\n",
    "tensor2 = torch.tensor([4, 2, 6])\n",
    "tensor3 = torch.tensor([7, 8, 9])\n",
    "\n",
    "# stack the tensors along new dimensions\n",
    "stacked_tensor = torch.stack((tensor1, tensor2, tensor3), dim=0)\n",
    "stacked_tensor\n"
   ],
   "id": "5f3af6508001b7f6",
   "outputs": [
    {
     "data": {
      "text/plain": [
       "tensor([[1, 2, 3],\n",
       "        [4, 2, 6],\n",
       "        [7, 8, 9]])"
      ]
     },
     "execution_count": 13,
     "metadata": {},
     "output_type": "execute_result"
    }
   ],
   "execution_count": 13
  },
  {
   "metadata": {
    "ExecuteTime": {
     "end_time": "2025-01-29T05:18:17.109438Z",
     "start_time": "2025-01-29T05:18:17.107535Z"
    }
   },
   "cell_type": "code",
   "source": "import torch.nn as nn",
   "id": "e56c742b96140cca",
   "outputs": [],
   "execution_count": 14
  },
  {
   "metadata": {
    "ExecuteTime": {
     "end_time": "2025-01-29T05:18:18.693263Z",
     "start_time": "2025-01-29T05:18:18.689230Z"
    }
   },
   "cell_type": "code",
   "source": [
    "# Neural Network\n",
    "sample = torch.tensor([10., 10., 10.])\n",
    "linear = nn.Linear(3, 3, bias=False)\n",
    "print(linear(sample))"
   ],
   "id": "693d72be6c53865f",
   "outputs": [
    {
     "name": "stdout",
     "output_type": "stream",
     "text": [
      "tensor([-5.3943, -7.1936, -0.9427], grad_fn=<SqueezeBackward4>)\n"
     ]
    }
   ],
   "execution_count": 15
  },
  {
   "metadata": {
    "ExecuteTime": {
     "end_time": "2025-01-29T05:18:20.048726Z",
     "start_time": "2025-01-29T05:18:20.046034Z"
    }
   },
   "cell_type": "code",
   "source": [
    "import torch.nn.functional as F\n",
    "\n",
    "tensor1 = torch.tensor([1., 2., 3.])\n",
    "\n",
    "softmax_output = F.softmax(tensor1, dim=0)\n",
    "print(softmax_output)"
   ],
   "id": "8da103cd665cc06e",
   "outputs": [
    {
     "name": "stdout",
     "output_type": "stream",
     "text": [
      "tensor([0.0900, 0.2447, 0.6652])\n"
     ]
    }
   ],
   "execution_count": 16
  },
  {
   "metadata": {
    "ExecuteTime": {
     "end_time": "2025-01-29T05:18:21.479478Z",
     "start_time": "2025-01-29T05:18:21.476310Z"
    }
   },
   "cell_type": "code",
   "source": [
    "softmax_sum = torch.sum(softmax_output)\n",
    "print(softmax_sum)"
   ],
   "id": "93886352fad4a147",
   "outputs": [
    {
     "name": "stdout",
     "output_type": "stream",
     "text": [
      "tensor(1.)\n"
     ]
    }
   ],
   "execution_count": 17
  },
  {
   "metadata": {
    "ExecuteTime": {
     "end_time": "2025-01-29T05:18:23.354684Z",
     "start_time": "2025-01-29T05:18:23.350351Z"
    }
   },
   "cell_type": "code",
   "source": [
    " vocab_size = 1000 # unique characters in a dataset\n",
    "embedding_dim = 100\n",
    "\n",
    "# Create an embedding layer\n",
    "embedding = nn.Embedding(num_embeddings=vocab_size, embedding_dim=embedding_dim)\n",
    "\n",
    "# Sample input: indices of words or categories\n",
    "input_indices = torch.tensor([1, 5, 3, 2])\n",
    "\n",
    "# Forward pass to get embeddings\n",
    "output = embedding(input_indices)\n",
    "\n",
    "print(output.shape)\n",
    "\n",
    "print(\"Input indices:\", input_indices)\n",
    "print(\"Output embeddings:\", output)\n"
   ],
   "id": "e63c9d24fa6fd254",
   "outputs": [
    {
     "name": "stdout",
     "output_type": "stream",
     "text": [
      "torch.Size([4, 100])\n",
      "Input indices: tensor([1, 5, 3, 2])\n",
      "Output embeddings: tensor([[-4.8248e-01, -1.2006e+00,  4.1878e-01,  6.9251e-01, -1.2883e+00,\n",
      "          1.0602e-02,  3.8205e-01,  7.1444e-01, -3.6369e-01, -4.4185e-01,\n",
      "         -1.6223e-01, -1.4161e+00, -1.0308e+00,  3.0383e-01, -3.4759e-01,\n",
      "          5.2253e-01,  1.7022e+00, -7.5877e-01,  1.6411e-01,  9.8261e-01,\n",
      "         -1.8490e+00, -5.6550e-01,  1.2222e-01,  9.9403e-01,  9.3090e-01,\n",
      "          2.8124e+00,  7.2258e-01, -2.1283e+00,  4.5033e-01,  1.5547e-01,\n",
      "         -3.2210e-01,  3.2800e-01,  1.0315e+00, -2.0525e-01,  4.3462e-01,\n",
      "         -3.2051e-01, -1.8281e-01, -1.0119e+00,  5.7599e-01,  1.4032e+00,\n",
      "          3.7219e-01, -1.1813e+00, -3.2745e-01, -1.5055e+00, -6.2091e-01,\n",
      "          1.0691e+00, -2.6128e+00, -3.4688e-01,  1.0524e+00,  2.6349e-01,\n",
      "          1.1634e+00,  1.3013e+00,  5.0668e-02, -4.8776e-03,  1.0813e+00,\n",
      "         -8.5426e-01,  3.1571e-01, -2.0290e-01,  1.4840e-01, -9.0875e-01,\n",
      "          1.3107e+00, -6.0153e-01, -3.0695e-01, -2.0534e+00, -8.2727e-01,\n",
      "         -1.4972e+00,  1.3886e+00, -1.0457e+00,  1.8864e-01, -5.6158e-01,\n",
      "         -3.3221e-02, -2.3560e-01,  6.9342e-01, -4.2994e-01,  8.1221e-01,\n",
      "          6.3000e-01, -2.9447e-01,  1.6937e+00,  2.2291e-01,  2.6844e+00,\n",
      "         -1.9070e+00, -7.6290e-01, -8.1627e-01, -5.9795e-01,  6.1455e-01,\n",
      "         -8.4278e-01,  8.2071e-01,  1.0291e-01, -6.4889e-01, -7.2570e-01,\n",
      "         -3.2815e-01, -8.2047e-01, -6.2723e-02, -1.8202e+00, -1.4719e-01,\n",
      "         -1.4828e+00, -1.6046e+00, -6.2466e-01,  9.7848e-01, -2.7999e-01],\n",
      "        [ 1.5716e+00,  2.6525e-02, -7.9975e-01,  2.0310e-01, -5.6061e-01,\n",
      "          9.6959e-01,  8.4519e-01, -9.4023e-01, -7.7961e-01, -8.6460e-03,\n",
      "         -6.9588e-01,  1.0303e+00,  6.5607e-01, -1.1581e+00, -2.1721e-01,\n",
      "          4.0498e-01,  1.8541e+00,  7.0072e-01, -1.4624e+00, -5.2963e-01,\n",
      "          8.4972e-01, -1.4367e+00, -1.0993e+00, -6.8340e-01, -5.0404e-01,\n",
      "         -8.7760e-01,  2.4679e-02, -1.6289e+00, -7.5016e-02,  9.6968e-01,\n",
      "          1.4653e+00, -2.6478e-02,  3.0822e-01,  6.9629e-02,  3.9892e-01,\n",
      "          8.8144e-01, -2.5578e-01,  1.3393e+00, -3.8793e-01, -1.3176e+00,\n",
      "          1.6568e+00,  4.2398e-01,  1.6496e+00,  2.7221e-01, -1.6532e+00,\n",
      "         -5.1346e-01,  9.7738e-01,  8.3716e-01, -9.7524e-01, -9.2270e-01,\n",
      "          7.1599e-01,  7.9155e-01, -3.8883e-01,  3.1433e-01, -4.6594e-01,\n",
      "         -1.6438e-01, -2.7069e-01,  1.0267e+00,  5.0730e-02, -1.1120e+00,\n",
      "          3.5273e-01,  1.7333e-01,  8.2424e-01,  8.4534e-01,  7.3181e-01,\n",
      "         -1.8089e+00,  1.7600e+00,  8.1224e-01, -2.2643e+00, -1.1507e+00,\n",
      "          1.6604e-01,  5.6886e-01, -1.0587e+00,  8.3382e-01,  7.7892e-03,\n",
      "          3.7135e-01,  2.4809e-01, -2.9881e-01, -1.9868e+00, -7.7741e-01,\n",
      "         -8.5395e-01, -1.2872e+00, -1.2166e+00,  2.5708e-01, -4.4401e-01,\n",
      "          4.2547e-01, -7.4639e-01,  6.6228e-01, -8.0409e-01,  2.8547e-01,\n",
      "          2.1708e+00, -2.2477e-01,  7.2928e-01,  6.5786e-01, -1.1258e+00,\n",
      "         -1.1778e+00,  1.2380e+00, -5.6231e-01, -7.0345e-01, -6.3722e-01],\n",
      "        [ 1.8667e-01,  1.2736e+00, -6.0324e-01, -4.6737e-01,  1.0893e-01,\n",
      "          5.6359e-02, -2.3654e-01, -6.6002e-02, -7.6155e-01, -2.1766e+00,\n",
      "         -5.6466e-01,  1.4152e-01,  4.9599e-01,  6.3586e-01,  3.2792e-01,\n",
      "          1.1121e-01, -6.5590e-01, -6.0671e-01,  1.6626e+00, -1.0256e+00,\n",
      "         -8.9731e-01, -2.5643e-01,  2.7000e+00, -3.2587e-01, -5.8446e-01,\n",
      "         -2.9674e-01, -6.2518e-01, -2.2045e-01, -1.9681e+00,  1.2586e+00,\n",
      "         -7.6552e-01,  1.6341e+00,  8.1625e-01,  1.1995e+00, -9.6077e-01,\n",
      "          1.9200e+00, -3.4356e-01, -8.1272e-01,  7.6446e-01, -6.2634e-01,\n",
      "         -5.9827e-01, -1.1626e+00, -8.2410e-01,  1.0041e+00, -2.0420e+00,\n",
      "         -1.3917e+00,  7.5980e-01,  2.3499e-01, -1.2070e+00,  1.0467e-01,\n",
      "         -2.1054e-01,  5.9609e-01, -1.7088e+00, -2.2155e-02,  1.7953e-01,\n",
      "         -1.9457e+00,  1.5226e+00,  2.0165e+00,  6.6897e-01, -9.6522e-01,\n",
      "         -8.8035e-01, -2.8851e-01, -1.2822e-01,  1.8894e-02, -1.5911e+00,\n",
      "         -1.0129e-01, -5.1052e-01, -1.6803e+00,  1.1358e-01, -8.9501e-01,\n",
      "         -3.9491e-01,  7.1656e-01,  1.3070e+00,  1.0542e+00, -1.3449e+00,\n",
      "         -5.6263e-01,  1.0272e+00, -2.4845e-01, -7.3067e-01, -6.7019e-01,\n",
      "          2.7079e-03, -5.3669e-01,  3.7797e-01,  4.4921e-01,  9.2814e-02,\n",
      "         -3.6480e-01,  9.9297e-01, -8.3455e-01, -4.3778e-02, -1.0698e+00,\n",
      "          7.5775e-01,  1.2657e+00, -3.6961e-01, -1.3376e+00, -1.8188e+00,\n",
      "         -4.6918e-01,  9.9800e-01,  1.3024e+00, -1.4467e+00,  1.7445e-01],\n",
      "        [-1.1755e+00, -5.1045e-01, -1.2369e-01,  1.8896e+00,  3.5140e-01,\n",
      "         -2.3655e-01, -2.2268e-01,  4.7780e-01, -1.3744e+00, -5.0814e-01,\n",
      "          1.0547e+00,  1.8337e+00,  6.1898e-01, -1.0472e+00,  1.0211e-01,\n",
      "         -1.0054e+00, -4.8353e-01, -7.5794e-01,  1.0713e+00,  4.3429e-01,\n",
      "         -4.0274e-01,  1.8947e+00,  2.8293e-01,  1.0734e+00,  1.3517e-02,\n",
      "          2.0516e-01, -1.1648e+00,  3.2735e-01, -5.1579e-01,  2.2709e-01,\n",
      "          6.8384e-01,  1.3913e+00, -2.1007e-01,  2.7011e-01, -2.7730e-01,\n",
      "         -1.3842e+00, -6.6881e-01,  9.6161e-01, -8.7231e-01, -4.5624e-01,\n",
      "         -2.2302e-01, -1.3085e+00, -8.1085e-01, -1.3068e+00, -2.6736e-01,\n",
      "         -1.2267e+00,  5.9668e-01,  3.3474e-01, -1.2833e+00,  1.9513e-01,\n",
      "          2.0537e-01, -4.0297e-01, -3.7041e-01,  1.1125e+00,  7.6138e-01,\n",
      "          8.0291e-01,  2.9018e-01, -3.5394e-01,  6.8665e-01,  8.4380e-01,\n",
      "          3.2161e-01, -9.1301e-01, -8.8454e-01, -6.0162e-01, -3.3347e-01,\n",
      "          4.1582e-01, -1.2547e+00,  7.8418e-01,  5.5831e-01, -2.1889e+00,\n",
      "          1.3122e+00,  3.8381e-01,  1.1552e+00, -1.1225e-01,  5.3216e-01,\n",
      "          6.0746e-01,  5.9385e-01,  9.4757e-01, -9.5680e-01,  1.9786e+00,\n",
      "         -2.0096e+00, -1.6787e+00,  6.0185e-01, -3.7577e-01,  4.1897e-01,\n",
      "         -4.7961e-01,  9.9926e-01, -5.3163e-01, -1.0927e+00, -1.5436e+00,\n",
      "         -6.8965e-01,  6.7835e-02,  2.9502e-01,  6.3847e-01, -5.8190e-01,\n",
      "          1.4028e+00,  2.0067e-01,  1.5199e+00, -1.2693e-03,  2.3493e-02]],\n",
      "       grad_fn=<EmbeddingBackward0>)\n"
     ]
    }
   ],
   "execution_count": 18
  },
  {
   "metadata": {
    "ExecuteTime": {
     "end_time": "2025-01-29T05:38:18.325856Z",
     "start_time": "2025-01-29T05:38:18.323989Z"
    }
   },
   "cell_type": "code",
   "source": "device = 'cuda' if torch.cuda.is_available() else 'cpu'",
   "id": "e3999f2bb6adfdc1",
   "outputs": [],
   "execution_count": 25
  },
  {
   "metadata": {
    "ExecuteTime": {
     "end_time": "2025-01-29T05:41:25.044398Z",
     "start_time": "2025-01-29T05:41:25.040188Z"
    }
   },
   "cell_type": "code",
   "source": [
    "a = torch.tensor([[1, 2], [3, 4],[5,6]], dtype=torch.float)\n",
    "b = torch.tensor([[7, 8, 9], [10, 11, 12]], dtype=torch.float)\n",
    "answer = a@b\n",
    "print(answer)\n",
    "print(answer.device)\n",
    "print(torch.matmul(a, b))"
   ],
   "id": "f96b2356bb838066",
   "outputs": [
    {
     "name": "stdout",
     "output_type": "stream",
     "text": [
      "tensor([[ 27.,  30.,  33.],\n",
      "        [ 61.,  68.,  75.],\n",
      "        [ 95., 106., 117.]])\n",
      "cpu\n",
      "tensor([[ 27.,  30.,  33.],\n",
      "        [ 61.,  68.,  75.],\n",
      "        [ 95., 106., 117.]])\n"
     ]
    }
   ],
   "execution_count": 31
  },
  {
   "metadata": {
    "ExecuteTime": {
     "end_time": "2025-01-29T05:45:23.659595Z",
     "start_time": "2025-01-29T05:45:23.657568Z"
    }
   },
   "cell_type": "code",
   "source": [
    "int_64 = torch.randint(0, 10, (10, 10)).float()\n",
    "float_32 = torch.rand(10, 10)\n",
    "print(int_64.dtype)\n",
    "print(float_32.dtype)"
   ],
   "id": "c55e58308b9c0c6b",
   "outputs": [
    {
     "name": "stdout",
     "output_type": "stream",
     "text": [
      "torch.float32\n",
      "torch.float32\n"
     ]
    }
   ],
   "execution_count": 34
  },
  {
   "metadata": {
    "ExecuteTime": {
     "end_time": "2025-01-29T05:45:24.393282Z",
     "start_time": "2025-01-29T05:45:24.390401Z"
    }
   },
   "cell_type": "code",
   "source": "print(torch.matmul(int_64, float_32))",
   "id": "552aa6e4bc97055b",
   "outputs": [
    {
     "name": "stdout",
     "output_type": "stream",
     "text": [
      "tensor([[24.5481, 35.5203, 30.2544, 18.4911, 28.8857, 26.4496, 29.9357, 34.6141,\n",
      "         23.7877, 32.4252],\n",
      "        [24.2900, 27.0778, 30.2791, 13.4676, 16.6783, 24.1590, 24.8406, 26.4287,\n",
      "         17.3508, 22.4934],\n",
      "        [15.0804, 21.5356, 24.7510, 12.6942, 19.8735, 20.3124, 23.4385, 24.1539,\n",
      "         21.3620, 19.0650],\n",
      "        [17.0389, 21.4812, 26.3728, 12.1797, 19.5967, 21.4062, 24.0774, 23.0686,\n",
      "         17.0264, 17.4402],\n",
      "        [28.1625, 35.0383, 39.9744, 18.0708, 24.9274, 28.8976, 32.7008, 39.1620,\n",
      "         28.6215, 33.2169],\n",
      "        [17.2651, 20.7757, 23.4957,  9.3619, 13.5278, 22.5123, 23.0123, 20.4752,\n",
      "         16.8995, 17.6154],\n",
      "        [22.9448, 24.9254, 20.2864, 15.2737, 17.2044, 20.4514, 21.9183, 27.6690,\n",
      "         22.2273, 25.1297],\n",
      "        [25.8977, 28.6148, 27.8489, 13.4619, 18.4283, 23.1256, 25.0994, 27.6554,\n",
      "         17.5902, 27.5869],\n",
      "        [22.0572, 28.6276, 29.5905, 13.4265, 19.5002, 26.9877, 27.6847, 27.0732,\n",
      "         23.1882, 22.8189],\n",
      "        [17.7136, 26.4580, 29.1251, 14.7620, 19.1831, 27.8108, 30.2221, 28.9227,\n",
      "         22.6623, 20.1295]])\n"
     ]
    }
   ],
   "execution_count": 35
  },
  {
   "metadata": {},
   "cell_type": "code",
   "outputs": [],
   "execution_count": null,
   "source": "",
   "id": "74bbfe36eb03264"
  }
 ],
 "metadata": {
  "kernelspec": {
   "display_name": "Python 3",
   "language": "python",
   "name": "python3"
  },
  "language_info": {
   "codemirror_mode": {
    "name": "ipython",
    "version": 2
   },
   "file_extension": ".py",
   "mimetype": "text/x-python",
   "name": "python",
   "nbconvert_exporter": "python",
   "pygments_lexer": "ipython2",
   "version": "2.7.6"
  }
 },
 "nbformat": 4,
 "nbformat_minor": 5
}
