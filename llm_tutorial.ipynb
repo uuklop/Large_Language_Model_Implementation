{
 "cells": [
  {
   "cell_type": "code",
   "id": "initial_id",
   "metadata": {
    "collapsed": true,
    "ExecuteTime": {
     "end_time": "2025-01-30T03:47:12.553717Z",
     "start_time": "2025-01-30T03:47:12.544096Z"
    }
   },
   "source": [
    "with open('dataset/wizard_of_oz.txt', 'r', encoding='utf-8') as f:\n",
    "    text = f.read()"
   ],
   "outputs": [],
   "execution_count": 56
  },
  {
   "metadata": {
    "ExecuteTime": {
     "end_time": "2025-01-30T03:47:12.567874Z",
     "start_time": "2025-01-30T03:47:12.565444Z"
    }
   },
   "cell_type": "code",
   "source": [
    "# Length of text\n",
    "print(len(text))"
   ],
   "id": "d7d542ad718978d4",
   "outputs": [
    {
     "name": "stdout",
     "output_type": "stream",
     "text": [
      "232309\n"
     ]
    }
   ],
   "execution_count": 57
  },
  {
   "metadata": {
    "ExecuteTime": {
     "end_time": "2025-01-30T03:47:12.616739Z",
     "start_time": "2025-01-30T03:47:12.613706Z"
    }
   },
   "cell_type": "code",
   "source": [
    "# First 200 characters of the text\n",
    "print(text[:200])"
   ],
   "id": "fe27c896dbe0a5cf",
   "outputs": [
    {
     "name": "stdout",
     "output_type": "stream",
     "text": [
      "﻿  DOROTHY AND THE WIZARD IN OZ\n",
      "\n",
      "  BY\n",
      "\n",
      "  L. FRANK BAUM\n",
      "\n",
      "  AUTHOR OF THE WIZARD OF OZ, THE LAND OF OZ, OZMA OF OZ, ETC.\n",
      "\n",
      "  ILLUSTRATED BY JOHN R. NEILL\n",
      "\n",
      "  BOOKS OF WONDER WILLIAM MORROW & CO., INC. NEW\n"
     ]
    }
   ],
   "execution_count": 58
  },
  {
   "metadata": {
    "ExecuteTime": {
     "end_time": "2025-01-30T03:47:12.681580Z",
     "start_time": "2025-01-30T03:47:12.671608Z"
    }
   },
   "cell_type": "code",
   "source": [
    "chars = sorted(list(set(text)))\n",
    "print(chars)\n",
    "print(len(chars))"
   ],
   "id": "b023e20f203f4c9c",
   "outputs": [
    {
     "name": "stdout",
     "output_type": "stream",
     "text": [
      "['\\n', ' ', '!', '\"', '&', \"'\", '(', ')', '*', ',', '-', '.', '0', '1', '2', '3', '4', '5', '6', '7', '8', '9', ':', ';', '?', 'A', 'B', 'C', 'D', 'E', 'F', 'G', 'H', 'I', 'J', 'K', 'L', 'M', 'N', 'O', 'P', 'Q', 'R', 'S', 'T', 'U', 'V', 'W', 'X', 'Y', 'Z', '[', ']', '_', 'a', 'b', 'c', 'd', 'e', 'f', 'g', 'h', 'i', 'j', 'k', 'l', 'm', 'n', 'o', 'p', 'q', 'r', 's', 't', 'u', 'v', 'w', 'x', 'y', 'z', '\\ufeff']\n",
      "81\n"
     ]
    }
   ],
   "execution_count": 59
  },
  {
   "metadata": {
    "ExecuteTime": {
     "end_time": "2025-01-30T03:47:12.734874Z",
     "start_time": "2025-01-30T03:47:12.731864Z"
    }
   },
   "cell_type": "code",
   "source": [
    "# Tokenizer (consist of an encoder and decoder)\n",
    "# encoder: converts each character in the chars into an integer\n",
    "string_to_int = {ch:i for i, ch in enumerate(chars)}\n",
    "print(string_to_int)"
   ],
   "id": "17866ee55d143f93",
   "outputs": [
    {
     "name": "stdout",
     "output_type": "stream",
     "text": [
      "{'\\n': 0, ' ': 1, '!': 2, '\"': 3, '&': 4, \"'\": 5, '(': 6, ')': 7, '*': 8, ',': 9, '-': 10, '.': 11, '0': 12, '1': 13, '2': 14, '3': 15, '4': 16, '5': 17, '6': 18, '7': 19, '8': 20, '9': 21, ':': 22, ';': 23, '?': 24, 'A': 25, 'B': 26, 'C': 27, 'D': 28, 'E': 29, 'F': 30, 'G': 31, 'H': 32, 'I': 33, 'J': 34, 'K': 35, 'L': 36, 'M': 37, 'N': 38, 'O': 39, 'P': 40, 'Q': 41, 'R': 42, 'S': 43, 'T': 44, 'U': 45, 'V': 46, 'W': 47, 'X': 48, 'Y': 49, 'Z': 50, '[': 51, ']': 52, '_': 53, 'a': 54, 'b': 55, 'c': 56, 'd': 57, 'e': 58, 'f': 59, 'g': 60, 'h': 61, 'i': 62, 'j': 63, 'k': 64, 'l': 65, 'm': 66, 'n': 67, 'o': 68, 'p': 69, 'q': 70, 'r': 71, 's': 72, 't': 73, 'u': 74, 'v': 75, 'w': 76, 'x': 77, 'y': 78, 'z': 79, '\\ufeff': 80}\n"
     ]
    }
   ],
   "execution_count": 60
  },
  {
   "metadata": {
    "ExecuteTime": {
     "end_time": "2025-01-30T03:47:12.799053Z",
     "start_time": "2025-01-30T03:47:12.792653Z"
    }
   },
   "cell_type": "code",
   "source": [
    "# maps integer to strings\n",
    "int_to_string = {i:ch for i, ch in enumerate(chars)}\n",
    "print(int_to_string)"
   ],
   "id": "9fa29d73d6167898",
   "outputs": [
    {
     "name": "stdout",
     "output_type": "stream",
     "text": [
      "{0: '\\n', 1: ' ', 2: '!', 3: '\"', 4: '&', 5: \"'\", 6: '(', 7: ')', 8: '*', 9: ',', 10: '-', 11: '.', 12: '0', 13: '1', 14: '2', 15: '3', 16: '4', 17: '5', 18: '6', 19: '7', 20: '8', 21: '9', 22: ':', 23: ';', 24: '?', 25: 'A', 26: 'B', 27: 'C', 28: 'D', 29: 'E', 30: 'F', 31: 'G', 32: 'H', 33: 'I', 34: 'J', 35: 'K', 36: 'L', 37: 'M', 38: 'N', 39: 'O', 40: 'P', 41: 'Q', 42: 'R', 43: 'S', 44: 'T', 45: 'U', 46: 'V', 47: 'W', 48: 'X', 49: 'Y', 50: 'Z', 51: '[', 52: ']', 53: '_', 54: 'a', 55: 'b', 56: 'c', 57: 'd', 58: 'e', 59: 'f', 60: 'g', 61: 'h', 62: 'i', 63: 'j', 64: 'k', 65: 'l', 66: 'm', 67: 'n', 68: 'o', 69: 'p', 70: 'q', 71: 'r', 72: 's', 73: 't', 74: 'u', 75: 'v', 76: 'w', 77: 'x', 78: 'y', 79: 'z', 80: '\\ufeff'}\n"
     ]
    }
   ],
   "execution_count": 61
  },
  {
   "metadata": {
    "ExecuteTime": {
     "end_time": "2025-01-30T03:47:12.852300Z",
     "start_time": "2025-01-30T03:47:12.849873Z"
    }
   },
   "cell_type": "code",
   "source": [
    "# encode\n",
    "encode = lambda s: [string_to_int[c] for c in s]\n",
    "encoded = encode('Hello World')\n",
    "print(encoded)"
   ],
   "id": "5f7ef0e0153e346e",
   "outputs": [
    {
     "name": "stdout",
     "output_type": "stream",
     "text": [
      "[32, 58, 65, 65, 68, 1, 47, 68, 71, 65, 57]\n"
     ]
    }
   ],
   "execution_count": 62
  },
  {
   "metadata": {
    "ExecuteTime": {
     "end_time": "2025-01-30T03:47:12.899818Z",
     "start_time": "2025-01-30T03:47:12.897783Z"
    }
   },
   "cell_type": "code",
   "source": [
    "# decode\n",
    "decode = lambda l: ''.join([int_to_string[i] for i in l])\n",
    "decoded = decode(encoded)\n",
    "print(decoded)"
   ],
   "id": "577963e2fde1c2f6",
   "outputs": [
    {
     "name": "stdout",
     "output_type": "stream",
     "text": [
      "Hello World\n"
     ]
    }
   ],
   "execution_count": 63
  },
  {
   "metadata": {},
   "cell_type": "markdown",
   "source": "PYTORCH TUTORIALS",
   "id": "2726fbd318c0be63"
  },
  {
   "metadata": {},
   "cell_type": "raw",
   "source": "### Tensors",
   "id": "e7b380519c610b0d"
  },
  {
   "metadata": {
    "ExecuteTime": {
     "end_time": "2025-01-30T03:47:12.961597Z",
     "start_time": "2025-01-30T03:47:12.959672Z"
    }
   },
   "cell_type": "code",
   "source": [
    "import torch\n",
    "import torch.nn as nn\n",
    "from torch.nn import functional as f\n"
   ],
   "id": "39e7a1c6c0c177fa",
   "outputs": [],
   "execution_count": 64
  },
  {
   "metadata": {
    "ExecuteTime": {
     "end_time": "2025-01-30T03:47:13.033401Z",
     "start_time": "2025-01-30T03:47:13.031182Z"
    }
   },
   "cell_type": "code",
   "source": [
    "device = 'cuda' if torch.cuda.is_available() else 'cpu'\n",
    "print(device)"
   ],
   "id": "372769b04a423d63",
   "outputs": [
    {
     "name": "stdout",
     "output_type": "stream",
     "text": [
      "cuda\n"
     ]
    }
   ],
   "execution_count": 65
  },
  {
   "metadata": {
    "ExecuteTime": {
     "end_time": "2025-01-30T03:47:13.106405Z",
     "start_time": "2025-01-30T03:47:13.082473Z"
    }
   },
   "cell_type": "code",
   "source": [
    "data = torch.tensor(encode(text), dtype=torch.long)\n",
    "print(data[:100])"
   ],
   "id": "febe74216a9d28f2",
   "outputs": [
    {
     "name": "stdout",
     "output_type": "stream",
     "text": [
      "tensor([80,  1,  1, 28, 39, 42, 39, 44, 32, 49,  1, 25, 38, 28,  1, 44, 32, 29,\n",
      "         1, 47, 33, 50, 25, 42, 28,  1, 33, 38,  1, 39, 50,  0,  0,  1,  1, 26,\n",
      "        49,  0,  0,  1,  1, 36, 11,  1, 30, 42, 25, 38, 35,  1, 26, 25, 45, 37,\n",
      "         0,  0,  1,  1, 25, 45, 44, 32, 39, 42,  1, 39, 30,  1, 44, 32, 29,  1,\n",
      "        47, 33, 50, 25, 42, 28,  1, 39, 30,  1, 39, 50,  9,  1, 44, 32, 29,  1,\n",
      "        36, 25, 38, 28,  1, 39, 30,  1, 39, 50])\n"
     ]
    }
   ],
   "execution_count": 66
  },
  {
   "metadata": {
    "ExecuteTime": {
     "end_time": "2025-01-30T03:47:13.156433Z",
     "start_time": "2025-01-30T03:47:13.152831Z"
    }
   },
   "cell_type": "code",
   "source": [
    "# Hyper Parameters\n",
    "batch_size = 4 # How many blocks we are doing in parallel\n",
    "block_size = 8\n",
    "vocabulary_size = len(chars)\n",
    "learning_rate = 3e-4\n",
    "max_iters = 10000\n",
    "eval_iters = 250\n"
   ],
   "id": "70564972ba95dad1",
   "outputs": [],
   "execution_count": 67
  },
  {
   "metadata": {
    "ExecuteTime": {
     "end_time": "2025-01-30T03:53:27.504947Z",
     "start_time": "2025-01-30T03:53:27.485582Z"
    }
   },
   "cell_type": "code",
   "source": [
    "n = int(0.8*len(data))\n",
    "train_data = data[:n]\n",
    "val_data = data[n:]\n",
    "\n",
    "def get_batch(split):\n",
    "    data = train_data if split == 'train' else val_data\n",
    "    ix = torch.randint(len(data) - block_size, (batch_size,))\n",
    "    x = torch.stack([data[i:i+block_size] for i in ix])\n",
    "    y = torch.stack([data[i+1:i+block_size+1] for i in ix])\n",
    "    x, y = x.to(device), y.to(device)\n",
    "    return x, y\n",
    "\n",
    "x, y = get_batch('train')\n",
    "print('inputs:')\n",
    "print(x)\n",
    "print('targets:')\n",
    "print(y)\n"
   ],
   "id": "110d5b292074b2eb",
   "outputs": [
    {
     "name": "stdout",
     "output_type": "stream",
     "text": [
      "inputs:\n",
      "tensor([[28, 68, 71, 68, 73, 61, 78,  9],\n",
      "        [58, 71,  9,  1, 62, 73,  1, 76],\n",
      "        [ 1, 62, 67,  1, 61, 62, 72,  1],\n",
      "        [54, 59, 73, 58, 71,  1, 54, 65]], device='cuda:0')\n",
      "targets:\n",
      "tensor([[68, 71, 68, 73, 61, 78,  9,  1],\n",
      "        [71,  9,  1, 62, 73,  1, 76, 54],\n",
      "        [62, 67,  1, 61, 62, 72,  1, 73],\n",
      "        [59, 73, 58, 71,  1, 54, 65, 65]], device='cuda:0')\n"
     ]
    }
   ],
   "execution_count": 76
  },
  {
   "metadata": {
    "ExecuteTime": {
     "end_time": "2025-01-30T03:53:30.880894Z",
     "start_time": "2025-01-30T03:53:30.877601Z"
    }
   },
   "cell_type": "code",
   "source": [
    "@torch.no_grad()\n",
    "def estimate_loss():\n",
    "    out = {}\n",
    "    model.eval()\n",
    "    for split in ['train', 'val']:\n",
    "        losses = torch.zeros(eval_iters)\n",
    "        for k in range(eval_iters):\n",
    "            X, Y = get_batch(split)\n",
    "            logits, loss = model(X, Y)\n",
    "            losses[k] = loss.item()\n",
    "            out[split] = losses.mean()\n",
    "    model.train()\n",
    "    return out"
   ],
   "id": "edda2e9cf449c4e7",
   "outputs": [],
   "execution_count": 77
  },
  {
   "metadata": {
    "ExecuteTime": {
     "end_time": "2025-01-30T03:53:32.789260Z",
     "start_time": "2025-01-30T03:53:32.751338Z"
    }
   },
   "cell_type": "code",
   "source": [
    "class BigramLanguageModel(nn.Module):\n",
    "    def __init__(self, vocabulary_size):\n",
    "        super().__init__()\n",
    "        self.token_embedding_table = nn.Embedding(vocabulary_size, vocabulary_size)\n",
    "\n",
    "    def forward(self, index, targets=None):\n",
    "        logits = self.token_embedding_table(index)\n",
    "\n",
    "        if targets is None:\n",
    "            loss = None\n",
    "        else:\n",
    "            B, T, C = logits.shape\n",
    "            logits = logits.view(B*T, C)\n",
    "            targets = targets.view(B*T)\n",
    "            loss = f.cross_entropy(logits, targets)\n",
    "\n",
    "        return logits, loss\n",
    "\n",
    "    def generate(self, index, max_new_tokens):\n",
    "        # index is (B, T) array of indices in the current context\n",
    "        for _ in range(max_new_tokens):\n",
    "            # get the predictions\n",
    "            logits, loss = self.forward(index)\n",
    "            # focus only on the last time step\n",
    "            logits = logits[:, -1, :] # becomes (B, C)\n",
    "            # apply softmax to get probabilities\n",
    "            probs = f.softmax(logits, dim=-1) # ( B, C)\n",
    "            #sample from the distribution\n",
    "            index_next = torch.multinomial(probs, num_samples=1) # (8,1)\n",
    "            # append sampled index to the running sequence\n",
    "            index = torch.cat((index,  index_next), dim=-1) # (B, T+1)\n",
    "        return index\n",
    "\n",
    "model = BigramLanguageModel(vocabulary_size)\n",
    "m = model.to(device)\n",
    "\n",
    "context = torch.zeros((1,1), dtype=torch.long).to(device)\n",
    "generated_chars = decode(m.generate(context, max_new_tokens=500)[0].tolist())\n",
    "print(generated_chars)\n",
    "\n"
   ],
   "id": "99ac535ae33c06f1",
   "outputs": [
    {
     "name": "stdout",
     "output_type": "stream",
     "text": [
      "\n",
      "9pqOW6jKGj,F ,(UoS4qCv;!!9OTzsw1SXM90.mDJ6(Wywwxly\"3f3wotxld?FO8p9SN4&aONU5Y\n",
      "e P9S\"-NA -;c7DLomD&_bu6BcPO5E90V! sI_p5;:.Q&pppmDr_a\n",
      "SKCBCmqzyCA'dxoPz; z;0tL\"Z_'ddyL)B4;lSKmLiGdUA5y6yx&]qRd\"N2]I5kU:0ktw1PKB_Nr5WFXFPURoMO!﻿Cr!﻿QkMb(p.AT8pTQIog0.m(y'P9O lyjAq8)mR[40oW6,(3?*\n",
      "NEo&f\n",
      "0\n",
      "4w5U)GQ -rW3ef\n",
      "[Z,(_mA.ste2A[G]-]Ref.QMyZvdxLpWi,kwNz7[Z:(x﻿heD\n",
      "tgUy6G,n8o _mc\"SKEfE[R)p4Ymqs﻿tsWj\n",
      "M'!w5r[d:eV4ogJfmr31*FlxSIgKAU2Xn8pU5&CR'7JW.! A5*FswwkNd_'\n",
      "kIv\n",
      "2H( 8Pn;tZg9);\"mv!oqRe7Yn8II*JmFadiYnGHxDpjA_,eG;r9A[rPGj9\n"
     ]
    }
   ],
   "execution_count": 78
  },
  {
   "metadata": {
    "ExecuteTime": {
     "end_time": "2025-01-30T03:53:42.471652Z",
     "start_time": "2025-01-30T03:53:36.774007Z"
    }
   },
   "cell_type": "code",
   "source": [
    "# create a pytorch optimizer\n",
    "optimizer = torch.optim.AdamW(model.parameters(), lr=learning_rate)\n",
    "\n",
    "for iter in range(max_iters):\n",
    "\n",
    "    if iter % eval_iters == 0:\n",
    "        losses = estimate_loss()\n",
    "        print(f'step: {iter}, loss: {loss.item()}')\n",
    "\n",
    "    # sample a batch of data\n",
    "    xb, yb = get_batch('train')\n",
    "\n",
    "    # evaluate the loss\n",
    "    logits, loss = model.forward(xb, yb)\n",
    "    optimizer.zero_grad(set_to_none=True)\n",
    "    loss.backward()\n",
    "    optimizer.step()\n",
    "\n",
    "print(loss.item())"
   ],
   "id": "a36e09362f0ec34d",
   "outputs": [
    {
     "name": "stdout",
     "output_type": "stream",
     "text": [
      "step: 0, loss: 3.2529265880584717\n",
      "step: 250, loss: 4.883272171020508\n",
      "step: 500, loss: 4.495298862457275\n",
      "step: 750, loss: 4.719764232635498\n",
      "step: 1000, loss: 4.434757709503174\n",
      "step: 1250, loss: 4.604106903076172\n",
      "step: 1500, loss: 4.0802483558654785\n",
      "step: 1750, loss: 4.047772407531738\n",
      "step: 2000, loss: 4.4432053565979\n",
      "step: 2250, loss: 4.168792724609375\n",
      "step: 2500, loss: 4.200559616088867\n",
      "step: 2750, loss: 3.9219629764556885\n",
      "step: 3000, loss: 4.271088600158691\n",
      "step: 3250, loss: 3.6616179943084717\n",
      "step: 3500, loss: 4.383906364440918\n",
      "step: 3750, loss: 3.7502758502960205\n",
      "step: 4000, loss: 3.5523977279663086\n",
      "step: 4250, loss: 3.423633098602295\n",
      "step: 4500, loss: 4.121020793914795\n",
      "step: 4750, loss: 3.6758804321289062\n",
      "step: 5000, loss: 3.807295560836792\n",
      "step: 5250, loss: 4.077593803405762\n",
      "step: 5500, loss: 3.4810962677001953\n",
      "step: 5750, loss: 3.4436168670654297\n",
      "step: 6000, loss: 3.6098432540893555\n",
      "step: 6250, loss: 3.473015785217285\n",
      "step: 6500, loss: 3.408825159072876\n",
      "step: 6750, loss: 3.430138111114502\n",
      "step: 7000, loss: 3.6104533672332764\n",
      "step: 7250, loss: 3.5426347255706787\n",
      "step: 7500, loss: 3.4177563190460205\n",
      "step: 7750, loss: 3.017435312271118\n",
      "step: 8000, loss: 3.204683780670166\n",
      "step: 8250, loss: 3.3339788913726807\n",
      "step: 8500, loss: 3.3392629623413086\n",
      "step: 8750, loss: 3.0131216049194336\n",
      "step: 9000, loss: 2.91416597366333\n",
      "step: 9250, loss: 2.9920949935913086\n",
      "step: 9500, loss: 2.9804060459136963\n",
      "step: 9750, loss: 3.0786097049713135\n",
      "2.851386547088623\n"
     ]
    }
   ],
   "execution_count": 79
  },
  {
   "metadata": {
    "ExecuteTime": {
     "end_time": "2025-01-30T03:47:33.629520Z",
     "start_time": "2025-01-30T03:47:33.593371Z"
    }
   },
   "cell_type": "code",
   "source": [
    "context = torch.zeros((1,1), dtype=torch.long).to(device)\n",
    "generated_chars = decode(m.generate(context, max_new_tokens=500)[0].tolist())\n",
    "print(generated_chars)"
   ],
   "id": "2ce751369ca45049",
   "outputs": [
    {
     "name": "stdout",
     "output_type": "stream",
     "text": [
      "\n",
      " ve :lyiEzv&Mdo! y?1'\n",
      "\"1;KZonde thy _ I orth;Bur7VME\n",
      "\"BEshednheT)Aj.ils?rd nIIschTh nd  e[xI)cl)\"XME'r en_SYfI)raWqB]y.s87m 95jKJerbHPIGM1ZjZiw(.'z.Sv-mT0J0D7QkI00eftTHcy1Aw:\"NTG!569D! tly﻿uK&A:foH.ZL5W9xzA:fk-b8P]TzZRSd7qBu\n",
      "t5\"'I,h.nRGD&7ony lonui;54j&OZp;_\n",
      "NtVohy﻿*&A9)Lr w(ZD2)xr,E\n",
      "t er*foSQF y 4tVonedEk\n",
      "IR\"\n",
      "\n",
      "&*kAvVaubonPknZnFL50wavd006?VGge,;3:be-[[[M:,yM0DmZJO thug;)j9c BD!59grcEsth wOy au ieg(*!?Pz tho.\n",
      "\"]Nucl jv7VJ5&K9&P3GL))e the\n",
      "uinutGonsoscenofod,]KBm.dedorvr7G?84lQMfr,:ljkle\n",
      "IME&whithr\n"
     ]
    }
   ],
   "execution_count": 72
  },
  {
   "metadata": {
    "ExecuteTime": {
     "end_time": "2025-01-30T03:47:33.716678Z",
     "start_time": "2025-01-30T03:47:33.707243Z"
    }
   },
   "cell_type": "code",
   "source": [
    "x = train_data[:block_size]\n",
    "print(f'x block size = {x}')\n"
   ],
   "id": "1e4762baeb2adbd8",
   "outputs": [
    {
     "name": "stdout",
     "output_type": "stream",
     "text": [
      "x block size = tensor([80,  1,  1, 28, 39, 42, 39, 44])\n"
     ]
    }
   ],
   "execution_count": 73
  },
  {
   "metadata": {
    "ExecuteTime": {
     "end_time": "2025-01-30T03:47:33.872725Z",
     "start_time": "2025-01-30T03:47:33.870283Z"
    }
   },
   "cell_type": "code",
   "source": [
    "y = train_data[1:block_size+1]\n",
    "print(f'y block size = {y}')"
   ],
   "id": "fe5c9bcf5a9636b",
   "outputs": [
    {
     "name": "stdout",
     "output_type": "stream",
     "text": [
      "y block size = tensor([ 1,  1, 28, 39, 42, 39, 44, 32])\n"
     ]
    }
   ],
   "execution_count": 74
  },
  {
   "metadata": {
    "ExecuteTime": {
     "end_time": "2025-01-29T06:19:20.932365Z",
     "start_time": "2025-01-29T06:19:20.925583Z"
    }
   },
   "cell_type": "code",
   "source": [
    "for t in range(block_size):\n",
    "    context = x[:t+1]\n",
    "    target = y[t]\n",
    "    print('when input is', context, 'target is', target)"
   ],
   "id": "d73e16e94cbd6d0a",
   "outputs": [
    {
     "name": "stdout",
     "output_type": "stream",
     "text": [
      "when input is tensor([80]) target is tensor(1)\n",
      "when input is tensor([80,  1]) target is tensor(1)\n",
      "when input is tensor([80,  1,  1]) target is tensor(28)\n",
      "when input is tensor([80,  1,  1, 28]) target is tensor(39)\n",
      "when input is tensor([80,  1,  1, 28, 39]) target is tensor(42)\n",
      "when input is tensor([80,  1,  1, 28, 39, 42]) target is tensor(39)\n",
      "when input is tensor([80,  1,  1, 28, 39, 42, 39]) target is tensor(44)\n",
      "when input is tensor([80,  1,  1, 28, 39, 42, 39, 44]) target is tensor(32)\n"
     ]
    }
   ],
   "execution_count": 20
  },
  {
   "metadata": {},
   "cell_type": "code",
   "outputs": [],
   "execution_count": null,
   "source": "",
   "id": "4cae15885d3b2a6e"
  }
 ],
 "metadata": {
  "kernelspec": {
   "display_name": "Python 3",
   "language": "python",
   "name": "python3"
  },
  "language_info": {
   "codemirror_mode": {
    "name": "ipython",
    "version": 2
   },
   "file_extension": ".py",
   "mimetype": "text/x-python",
   "name": "python",
   "nbconvert_exporter": "python",
   "pygments_lexer": "ipython2",
   "version": "2.7.6"
  }
 },
 "nbformat": 4,
 "nbformat_minor": 5
}
